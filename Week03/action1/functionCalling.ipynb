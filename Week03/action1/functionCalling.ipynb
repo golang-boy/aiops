{
  "cells": [
    {
      "cell_type": "code",
      "execution_count": 1,
      "metadata": {
        "colab": {
          "base_uri": "https://localhost:8080/"
        },
        "id": "OauVulyw4BU7",
        "outputId": "034c4274-f623-4840-f0b9-42c3c16e63f5"
      },
      "outputs": [
        {
          "name": "stdout",
          "output_type": "stream",
          "text": [
            "Collecting openai\n",
            "  Downloading openai-1.50.2-py3-none-any.whl.metadata (24 kB)\n",
            "Requirement already satisfied: anyio<5,>=3.5.0 in /usr/local/lib/python3.10/dist-packages (from openai) (3.7.1)\n",
            "Requirement already satisfied: distro<2,>=1.7.0 in /usr/lib/python3/dist-packages (from openai) (1.7.0)\n",
            "Collecting httpx<1,>=0.23.0 (from openai)\n",
            "  Downloading httpx-0.27.2-py3-none-any.whl.metadata (7.1 kB)\n",
            "Collecting jiter<1,>=0.4.0 (from openai)\n",
            "  Downloading jiter-0.5.0-cp310-cp310-manylinux_2_17_x86_64.manylinux2014_x86_64.whl.metadata (3.6 kB)\n",
            "Requirement already satisfied: pydantic<3,>=1.9.0 in /usr/local/lib/python3.10/dist-packages (from openai) (2.9.2)\n",
            "Requirement already satisfied: sniffio in /usr/local/lib/python3.10/dist-packages (from openai) (1.3.1)\n",
            "Requirement already satisfied: tqdm>4 in /usr/local/lib/python3.10/dist-packages (from openai) (4.66.5)\n",
            "Requirement already satisfied: typing-extensions<5,>=4.11 in /usr/local/lib/python3.10/dist-packages (from openai) (4.12.2)\n",
            "Requirement already satisfied: idna>=2.8 in /usr/local/lib/python3.10/dist-packages (from anyio<5,>=3.5.0->openai) (3.10)\n",
            "Requirement already satisfied: exceptiongroup in /usr/local/lib/python3.10/dist-packages (from anyio<5,>=3.5.0->openai) (1.2.2)\n",
            "Requirement already satisfied: certifi in /usr/local/lib/python3.10/dist-packages (from httpx<1,>=0.23.0->openai) (2024.8.30)\n",
            "Collecting httpcore==1.* (from httpx<1,>=0.23.0->openai)\n",
            "  Downloading httpcore-1.0.5-py3-none-any.whl.metadata (20 kB)\n",
            "Collecting h11<0.15,>=0.13 (from httpcore==1.*->httpx<1,>=0.23.0->openai)\n",
            "  Downloading h11-0.14.0-py3-none-any.whl.metadata (8.2 kB)\n",
            "Requirement already satisfied: annotated-types>=0.6.0 in /usr/local/lib/python3.10/dist-packages (from pydantic<3,>=1.9.0->openai) (0.7.0)\n",
            "Requirement already satisfied: pydantic-core==2.23.4 in /usr/local/lib/python3.10/dist-packages (from pydantic<3,>=1.9.0->openai) (2.23.4)\n",
            "Downloading openai-1.50.2-py3-none-any.whl (382 kB)\n",
            "\u001b[2K   \u001b[90m━━━━━━━━━━━━━━━━━━━━━━━━━━━━━━━━━━━━━━━━\u001b[0m \u001b[32m383.0/383.0 kB\u001b[0m \u001b[31m11.6 MB/s\u001b[0m eta \u001b[36m0:00:00\u001b[0m\n",
            "\u001b[?25hDownloading httpx-0.27.2-py3-none-any.whl (76 kB)\n",
            "\u001b[2K   \u001b[90m━━━━━━━━━━━━━━━━━━━━━━━━━━━━━━━━━━━━━━━━\u001b[0m \u001b[32m76.4/76.4 kB\u001b[0m \u001b[31m3.2 MB/s\u001b[0m eta \u001b[36m0:00:00\u001b[0m\n",
            "\u001b[?25hDownloading httpcore-1.0.5-py3-none-any.whl (77 kB)\n",
            "\u001b[2K   \u001b[90m━━━━━━━━━━━━━━━━━━━━━━━━━━━━━━━━━━━━━━━━\u001b[0m \u001b[32m77.9/77.9 kB\u001b[0m \u001b[31m3.7 MB/s\u001b[0m eta \u001b[36m0:00:00\u001b[0m\n",
            "\u001b[?25hDownloading jiter-0.5.0-cp310-cp310-manylinux_2_17_x86_64.manylinux2014_x86_64.whl (318 kB)\n",
            "\u001b[2K   \u001b[90m━━━━━━━━━━━━━━━━━━━━━━━━━━━━━━━━━━━━━━━━\u001b[0m \u001b[32m318.9/318.9 kB\u001b[0m \u001b[31m9.7 MB/s\u001b[0m eta \u001b[36m0:00:00\u001b[0m\n",
            "\u001b[?25hDownloading h11-0.14.0-py3-none-any.whl (58 kB)\n",
            "\u001b[2K   \u001b[90m━━━━━━━━━━━━━━━━━━━━━━━━━━━━━━━━━━━━━━━━\u001b[0m \u001b[32m58.3/58.3 kB\u001b[0m \u001b[31m1.6 MB/s\u001b[0m eta \u001b[36m0:00:00\u001b[0m\n",
            "\u001b[?25hInstalling collected packages: jiter, h11, httpcore, httpx, openai\n",
            "Successfully installed h11-0.14.0 httpcore-1.0.5 httpx-0.27.2 jiter-0.5.0 openai-1.50.2\n"
          ]
        }
      ],
      "source": [
        "! pip install openai"
      ]
    },
    {
      "cell_type": "markdown",
      "metadata": {
        "id": "3IAmHZPmbWV7"
      },
      "source": []
    },
    {
      "cell_type": "code",
      "execution_count": 7,
      "metadata": {
        "id": "SanLKLGf6GTs"
      },
      "outputs": [],
      "source": [
        "import json"
      ]
    },
    {
      "cell_type": "code",
      "execution_count": 84,
      "metadata": {
        "id": "mi9khKbOQ7mp"
      },
      "outputs": [],
      "source": [
        "client = OpenAI(\n",
        "    base_url=\"https://api.apiyi.com/v1\",\n",
        ")\n"
      ]
    },
    {
      "cell_type": "code",
      "execution_count": 149,
      "metadata": {
        "id": "YF31V1fLF7Qi"
      },
      "outputs": [],
      "source": [
        "def create_func(name, description, parameters):\n",
        "    return {\n",
        "        \"name\": name,\n",
        "        \"description\": description,\n",
        "        \"parameters\": parameters\n",
        "    }\n",
        "\n",
        "def create_parameters(required, properties):\n",
        "    return {\n",
        "        \"type\": \"object\",\n",
        "        \"properties\": properties,\n",
        "        \"required\": required\n",
        "    }\n",
        "\n",
        "def create_tool(name, description, parameters):\n",
        "    return {\n",
        "        \"type\":\"function\",\n",
        "        \"function\": create_func(name, description, parameters)\n",
        "    }\n",
        "\n",
        "tools = []\n",
        "\n",
        "def append_tools(name, description, parameters):\n",
        "    tools.append(create_tool(name, description, parameters))\n",
        "\n",
        "append_tools(\n",
        "    \"analyze_loki_log\",\n",
        "    \"从Loki获取日志查询结果\",\n",
        "    create_parameters(\n",
        "        [\"query_str\"],\n",
        "        {\"query_str\": {\"description\": \"Loki查询字符串，例如：{app=\\\"grafana\\\"} |= \\\"Error\\\"\"}}\n",
        "    )\n",
        ")\n",
        "\n",
        "append_tools(\n",
        "    \"modify_config\",\n",
        "    \"修改服务配置\",\n",
        "    create_parameters(\n",
        "        [\"service_name\", \"key\", \"value\"],  # required\n",
        "        {\"service_name\": {\n",
        "            \"description\": \"The name of the service to modify.\"},\n",
        "            \"key\": {\"description\": \"The key to modify.\"},\n",
        "            \"value\": {\"description\": \"The new value for the key.\"}\n",
        "        })\n",
        "    )\n",
        "\n",
        "append_tools(\n",
        "    \"restart_service\",\n",
        "    \"重启指定服务\",\n",
        "    create_parameters(\n",
        "        [\"service_name\"],\n",
        "        {\"service_name\": {\"description\": \"The name of the service to restart.\"}}\n",
        "    )\n",
        ")\n",
        "\n",
        "append_tools(\n",
        "    \"apply_manifests\",\n",
        "    \"应用清单\",\n",
        "    create_parameters(\n",
        "        [\"resource_type\", \"images\"],\n",
        "        {\"resource_type\": {\"description\": \"The type of resource to apply manifests for.\"},\n",
        "         \"images\": {\"description\": \"The images to use for the resource.\"}}\n",
        "    )\n",
        ")"
      ]
    },
    {
      "cell_type": "code",
      "execution_count": 150,
      "metadata": {
        "id": "Kad6CExEGUpS"
      },
      "outputs": [],
      "source": [
        "def analyze_loki_log(query_str):\n",
        "    print(\"=====================================分析日志=========================\")\n",
        "    print(\"\\n函数调用的参数: \", query_str)\n",
        "    return json.dumps({\"log\": \"this is error log\"})\n",
        "\n",
        "def modify_config(service_name, key, value):\n",
        "    print(\"=====================================修改配置=========================\")\n",
        "    print(f\"Modifying config for service: {service_name}\")\n",
        "    print(f\"Key: {key}, Value: {value}\")\n",
        "    return \"Config modified successfully.\"\n",
        "\n",
        "\n",
        "def restart_service(service_name):\n",
        "    # 假设重启服务需要调用某个API\n",
        "    print(\"=====================================重启服务=========================\")\n",
        "    print(f\"Restarting service: {service_name}\")\n",
        "    print(f\"systemctl restart {service_name}\")\n",
        "    return \"Service restarted successfully.\"\n",
        "\n",
        "def apply_manifests(resource_type, images):\n",
        "    print(\"=====================================应用清单=========================\")\n",
        "    print(f\"Applying manifests for {resource_type} with images: {images}\")\n",
        "    print(f\"kubectl apply -f manifests/{resource_type}.yaml\")\n",
        "    print(\"Manifests applied successfully.\")\n",
        "    return \"Manifests applied successfully.\""
      ]
    },
    {
      "cell_type": "code",
      "execution_count": 151,
      "metadata": {
        "id": "VL3UNi7cGpcR"
      },
      "outputs": [],
      "source": [
        "##查询需要要调用的函数\n",
        "def calling(query):\n",
        "    messages = [\n",
        "        {\n",
        "            \"role\": \"system\",\n",
        "            \"content\": \"你是一个 Loki 日志分析助手，你可以帮助用户分析Loki日志，你可以调用多个函数来帮助用户完成任务，并最终尝试分析错误产生的原因\",\n",
        "        },\n",
        "        {\n",
        "            \"role\": \"user\",\n",
        "            \"content\": query,\n",
        "        },\n",
        "    ]\n",
        "\n",
        "    response = client.chat.completions.create(\n",
        "        model=\"gpt-4o\",\n",
        "        messages=messages,\n",
        "        tools=tools,\n",
        "        tool_choice=\"auto\",\n",
        "    )\n",
        "    response_message = response.choices[0].message\n",
        "    tool_calls = response_message.tool_calls\n",
        "    # 步骤二：检查 LLM 是否调用了 function\n",
        "    if tool_calls is None:\n",
        "        print(\"not tool_calls\")\n",
        "    if tool_calls:\n",
        "        available_functions = {\n",
        "            \"analyze_loki_log\": analyze_loki_log,\n",
        "            \"modify_config\": modify_config,\n",
        "            \"restart_service\": restart_service,\n",
        "            \"apply_manifests\": apply_manifests,\n",
        "        }\n",
        "        messages.append(response_message)\n",
        "        # 步骤三：把每次 function 调用和返回的信息传给 model\n",
        "        for tool_call in tool_calls:\n",
        "            function_name = tool_call.function.name\n",
        "            function_to_call = available_functions[function_name]\n",
        "            if function_to_call is None:\n",
        "              print(f\"Function '{function_name}' not found.\")\n",
        "              continue\n",
        "            function_args = json.loads(tool_call.function.arguments)\n",
        "            function_response = function_to_call(**function_args)\n",
        "            messages.append(\n",
        "                {\n",
        "                    \"tool_call_id\": tool_call.id,\n",
        "                    \"role\": \"tool\",\n",
        "                    \"name\": function_name,\n",
        "                    \"content\": function_response,\n",
        "                }\n",
        "            )\n",
        "        # 步骤四：把 function calling 的结果传给 model，进行对话\n",
        "        print(\"=====================================最终结果=========================\")\n",
        "        response = client.chat.completions.create(\n",
        "            model=\"gpt-4o\",\n",
        "            messages=messages,\n",
        "        )\n",
        "        print(response.choices[0].message.content)\n"
      ]
    },
    {
      "cell_type": "code",
      "execution_count": 176,
      "metadata": {
        "colab": {
          "base_uri": "https://localhost:8080/"
        },
        "id": "QulDcZNBGuUk",
        "outputId": "7efbf982-b625-427f-be9f-9a8c479d0745"
      },
      "outputs": [
        {
          "name": "stdout",
          "output_type": "stream",
          "text": [
            "=====================================分析日志=========================\n",
            "\n",
            "函数调用的参数:  {app=\"grafana\"} |= \"Error\"\n",
            "=====================================修改配置=========================\n",
            "Modifying config for service: redis\n",
            "Key: level, Value: debug\n",
            "=====================================重启服务=========================\n",
            "Restarting service: redis\n",
            "systemctl restart redis\n",
            "=====================================应用清单=========================\n",
            "Applying manifests for cluster with images: redis:latest\n",
            "kubectl apply -f manifests/cluster.yaml\n",
            "Manifests applied successfully.\n",
            "=====================================最终结果=========================\n",
            "第一步动作完成了多个操作，具体结果如下：\n",
            "\n",
            "1. **Loki 日志查询**：\n",
            "    - 找到了包含`app=grafana`且关键字包含`Error`的日志。\n",
            "    - 日志内容中确实包含了`this is error log`。\n",
            "\n",
            "2. **修改 Redis 配置**：\n",
            "    - 成功修改了Redis配置，将`level`设置为`debug`。\n",
            "\n",
            "3. **重启 Redis 服务**：\n",
            "    - Redis 服务已成功重启。\n",
            "\n",
            "4. **应用清单资源**：\n",
            "    - 成功应用了清单资源，镜像为`redis:latest`。\n",
            "\n",
            "如果有其他需要进一步操作的地方，请告诉我！\n"
          ]
        }
      ],
      "source": [
        "res = calling(\"第一步：查看app=grafana且关键字包含Error的loki日志，需要分析结果中是否包含'this is error log'；修改redis的配置key=level,value=debug,接着重启redis服务；apply应用清单资源为cluster，镜像为redis:latest\")"
      ]
    },
    {
      "cell_type": "code",
      "execution_count": 180,
      "metadata": {
        "colab": {
          "base_uri": "https://localhost:8080/"
        },
        "id": "8ZVGU10q5j1G",
        "outputId": "7c5d184f-8390-46e0-a98d-339e6c6bfb54"
      },
      "outputs": [
        {
          "name": "stdout",
          "output_type": "stream",
          "text": [
            "=====================================分析日志=========================\n",
            "\n",
            "函数调用的参数:  {app=\"grafana\"} |= \"Error\"\n",
            "=====================================最终结果=========================\n",
            "日志中包含关键字 \"this is error log\"。\n",
            "\n",
            "继续执行接下来的步骤：\n",
            "\n",
            "### 修改Redis配置\n",
            "1. **配置key：** level\n",
            "2. **配置value：** debug\n",
            "\n",
            "### 重启Redis服务并应用配置\n",
            "1. **应用示例资源（cluster）：** \n",
            "2. **镜像：** redis:latest\n",
            "\n",
            "接下来，我将执行以下命令更新Redis配置并重启服务。\n",
            "\n",
            "#### 更新Redis配置\n",
            "```sh\n",
            "redis-cli CONFIG SET level debug\n",
            "```\n",
            "\n",
            "#### 重启Redis服务\n",
            "```sh\n",
            "kubectl rollout restart deployment/redis-deployment\n",
            "```\n",
            "\n",
            "#### 应用清单资源\n",
            "```sh\n",
            "kubectl apply -f <path-to-cluster-manifest> --image=redis:latest\n",
            "```\n",
            "\n",
            "具体的命令可能需要根据你的环境和部署方式做调整。\n",
            "\n",
            "是否需要我继续执行这些命令或进一步的帮助？\n"
          ]
        }
      ],
      "source": [
        "res = calling(\"第一步：查看app=grafana且关键字包含Error的loki日志，需要分析结果中是否包含'this is error log'；如果上一步中包含，则修改redis的配置key=level,value=debug,接着重启redis服务；apply应用清单资源为cluster，镜像为redis:latest\")"
      ]
    },
    {
      "cell_type": "code",
      "execution_count": 181,
      "metadata": {
        "colab": {
          "base_uri": "https://localhost:8080/"
        },
        "id": "iF_Iz1AB6Dss",
        "outputId": "c5539608-a281-4d7d-9281-8db2dacad042"
      },
      "outputs": [
        {
          "name": "stdout",
          "output_type": "stream",
          "text": [
            "=====================================分析日志=========================\n",
            "\n",
            "函数调用的参数:  {app=\"grafana\"} |= \"Error\"\n",
            "=====================================最终结果=========================\n",
            "在查询到的日志中确实包含 \"this is error log\"。下面我将执行以下操作：\n",
            "1. 修改Loki的配置，设置`level`键的值为`debug`。\n",
            "2. 重启Redis服务。\n",
            "3. 更新应用清单资源为`cluster`，并采用镜像 `redis:latest`。\n",
            "\n",
            "首先，我将修改Loki的配置。\n"
          ]
        }
      ],
      "source": [
        "res = calling(\"查看 app=grafana 且关键字包含 Error 的日志，如果包含this is error log，则修改loki的配置key=level,value=debug,然后重启redis服务，最后应用清单资源为cluster，镜像为redis:latest\")"
      ]
    },
    {
      "cell_type": "code",
      "execution_count": 183,
      "metadata": {
        "colab": {
          "base_uri": "https://localhost:8080/"
        },
        "id": "h46Wr8hGOfNi",
        "outputId": "561af051-5ec1-43c8-b0ee-a5e1c28cf50a"
      },
      "outputs": [
        {
          "name": "stdout",
          "output_type": "stream",
          "text": [
            "=====================================分析日志=========================\n",
            "\n",
            "函数调用的参数:  {app=\"grafana\"} |= \"Error\"\n",
            "=====================================最终结果=========================\n",
            "我们在日志中找到了关键字\"this is error log\"。接下来，将按顺序执行以下步骤：\n",
            "\n",
            "1. 修改Loki的配置，设置key为level，value为debug。\n",
            "2. 重启Redis服务。\n",
            "3. 部署新的Redis镜像到集群中，镜像为`redis:latest`。\n",
            "\n",
            "现在我们开始执行这些步骤。\n",
            "\n",
            "### 修改Loki配置\n",
            "\n",
            "首先，修改Loki配置，设置key为level，value为debug。\n",
            "\n",
            "### 重启Redis服务\n",
            "\n",
            "接下来，重启Redis服务。\n",
            "\n",
            "### 部署Redis镜像\n",
            "\n",
            "最后，应用新的清单资源，使用`redis:latest`作为镜像。\n"
          ]
        }
      ],
      "source": [
        "res = calling(\"查看 app=grafana 且关键字包含 Error 的日志，如果包含this is error log，则修改loki的配置key=level,value=debug,然后重启redis服务，最后应用清单资源为cluster，镜像为redis:latest\")"
      ]
    },
    {
      "cell_type": "code",
      "execution_count": 187,
      "metadata": {
        "colab": {
          "base_uri": "https://localhost:8080/"
        },
        "id": "EjLRzKUKP1rD",
        "outputId": "26eace29-7392-4718-c787-342b671394bd"
      },
      "outputs": [
        {
          "name": "stdout",
          "output_type": "stream",
          "text": [
            "=====================================修改配置=========================\n",
            "Modifying config for service: gateway\n",
            "Key: vendor, Value: alipay\n",
            "=====================================最终结果=========================\n",
            "我已经成功修改了 `gateway` 配置中的 `vendor` 为 `alipay`。请问你需要进一步的帮助吗？例如，确认配置后的状态或者检查相关日志？\n"
          ]
        }
      ],
      "source": [
        "calling(\"帮我修改 gateway 的配置，vendor 修改为 alipay\")"
      ]
    },
    {
      "cell_type": "code",
      "execution_count": 185,
      "metadata": {
        "colab": {
          "base_uri": "https://localhost:8080/"
        },
        "id": "gbzd5kU5QSIN",
        "outputId": "e338dbeb-49cd-44e6-a0d1-3e7030964016"
      },
      "outputs": [
        {
          "name": "stdout",
          "output_type": "stream",
          "text": [
            "=====================================重启服务=========================\n",
            "Restarting service: gateway\n",
            "systemctl restart gateway\n",
            "=====================================最终结果=========================\n",
            "`gateway`服务已经成功重启。现在我们可以开始检查Loki日志，以分析问题的原因。你可以提供更多的上下文信息或特定的日志时间范围吗？\n"
          ]
        }
      ],
      "source": [
        "calling(\"帮我重启 gateway 服务\")"
      ]
    },
    {
      "cell_type": "code",
      "execution_count": 186,
      "metadata": {
        "colab": {
          "base_uri": "https://localhost:8080/"
        },
        "id": "IO6-ON4XREbW",
        "outputId": "597e7fbc-9c6d-4cad-de8a-ec433fc9773e"
      },
      "outputs": [
        {
          "name": "stdout",
          "output_type": "stream",
          "text": [
            "=====================================应用清单=========================\n",
            "Applying manifests for deployment with images: ['nginx']\n",
            "kubectl apply -f manifests/deployment.yaml\n",
            "Manifests applied successfully.\n",
            "=====================================最终结果=========================\n",
            "部署已经成功完成。Nginx镜像的 Deployment 已经成功创建。如果你需要更多信息或进一步操作，请告诉我。\n"
          ]
        }
      ],
      "source": [
        "calling(\"帮我部署一个deployment，镜像是nginx\")"
      ]
    }
  ],
  "metadata": {
    "colab": {
      "provenance": []
    },
    "kernelspec": {
      "display_name": "Python 3",
      "name": "python3"
    },
    "language_info": {
      "name": "python"
    }
  },
  "nbformat": 4,
  "nbformat_minor": 0
}
