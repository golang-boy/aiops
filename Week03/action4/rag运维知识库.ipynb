{
  "nbformat": 4,
  "nbformat_minor": 0,
  "metadata": {
    "colab": {
      "provenance": []
    },
    "kernelspec": {
      "name": "python3",
      "display_name": "Python 3"
    },
    "language_info": {
      "name": "python"
    }
  },
  "cells": [
    {
      "cell_type": "code",
      "execution_count": 1,
      "metadata": {
        "colab": {
          "base_uri": "https://localhost:8080/"
        },
        "id": "Ley6pQDLvj13",
        "outputId": "21aa46b4-1360-4987-e43c-60ef4e78d918"
      },
      "outputs": [
        {
          "output_type": "stream",
          "name": "stdout",
          "text": [
            "\u001b[2K     \u001b[90m━━━━━━━━━━━━━━━━━━━━━━━━━━━━━━━━━━━━━━━━\u001b[0m \u001b[32m50.4/50.4 kB\u001b[0m \u001b[31m1.2 MB/s\u001b[0m eta \u001b[36m0:00:00\u001b[0m\n",
            "\u001b[2K   \u001b[90m━━━━━━━━━━━━━━━━━━━━━━━━━━━━━━━━━━━━━━━━\u001b[0m \u001b[32m49.6/49.6 kB\u001b[0m \u001b[31m2.6 MB/s\u001b[0m eta \u001b[36m0:00:00\u001b[0m\n",
            "\u001b[2K   \u001b[90m━━━━━━━━━━━━━━━━━━━━━━━━━━━━━━━━━━━━━━━━\u001b[0m \u001b[32m1.0/1.0 MB\u001b[0m \u001b[31m18.0 MB/s\u001b[0m eta \u001b[36m0:00:00\u001b[0m\n",
            "\u001b[2K   \u001b[90m━━━━━━━━━━━━━━━━━━━━━━━━━━━━━━━━━━━━━━━━\u001b[0m \u001b[32m2.4/2.4 MB\u001b[0m \u001b[31m45.0 MB/s\u001b[0m eta \u001b[36m0:00:00\u001b[0m\n",
            "\u001b[2K   \u001b[90m━━━━━━━━━━━━━━━━━━━━━━━━━━━━━━━━━━━━━━━━\u001b[0m \u001b[32m399.9/399.9 kB\u001b[0m \u001b[31m15.5 MB/s\u001b[0m eta \u001b[36m0:00:00\u001b[0m\n",
            "\u001b[2K   \u001b[90m━━━━━━━━━━━━━━━━━━━━━━━━━━━━━━━━━━━━━━━━\u001b[0m \u001b[32m292.2/292.2 kB\u001b[0m \u001b[31m16.4 MB/s\u001b[0m eta \u001b[36m0:00:00\u001b[0m\n",
            "\u001b[2K   \u001b[90m━━━━━━━━━━━━━━━━━━━━━━━━━━━━━━━━━━━━━━━━\u001b[0m \u001b[32m383.0/383.0 kB\u001b[0m \u001b[31m15.2 MB/s\u001b[0m eta \u001b[36m0:00:00\u001b[0m\n",
            "\u001b[2K   \u001b[90m━━━━━━━━━━━━━━━━━━━━━━━━━━━━━━━━━━━━━━━━\u001b[0m \u001b[32m1.1/1.1 MB\u001b[0m \u001b[31m37.4 MB/s\u001b[0m eta \u001b[36m0:00:00\u001b[0m\n",
            "\u001b[2K   \u001b[90m━━━━━━━━━━━━━━━━━━━━━━━━━━━━━━━━━━━━━━━━\u001b[0m \u001b[32m76.4/76.4 kB\u001b[0m \u001b[31m4.1 MB/s\u001b[0m eta \u001b[36m0:00:00\u001b[0m\n",
            "\u001b[2K   \u001b[90m━━━━━━━━━━━━━━━━━━━━━━━━━━━━━━━━━━━━━━━━\u001b[0m \u001b[32m77.9/77.9 kB\u001b[0m \u001b[31m4.4 MB/s\u001b[0m eta \u001b[36m0:00:00\u001b[0m\n",
            "\u001b[2K   \u001b[90m━━━━━━━━━━━━━━━━━━━━━━━━━━━━━━━━━━━━━━━━\u001b[0m \u001b[32m318.9/318.9 kB\u001b[0m \u001b[31m15.0 MB/s\u001b[0m eta \u001b[36m0:00:00\u001b[0m\n",
            "\u001b[2K   \u001b[90m━━━━━━━━━━━━━━━━━━━━━━━━━━━━━━━━━━━━━━━━\u001b[0m \u001b[32m49.3/49.3 kB\u001b[0m \u001b[31m2.0 MB/s\u001b[0m eta \u001b[36m0:00:00\u001b[0m\n",
            "\u001b[2K   \u001b[90m━━━━━━━━━━━━━━━━━━━━━━━━━━━━━━━━━━━━━━━━\u001b[0m \u001b[32m141.9/141.9 kB\u001b[0m \u001b[31m7.9 MB/s\u001b[0m eta \u001b[36m0:00:00\u001b[0m\n",
            "\u001b[2K   \u001b[90m━━━━━━━━━━━━━━━━━━━━━━━━━━━━━━━━━━━━━━━━\u001b[0m \u001b[32m58.3/58.3 kB\u001b[0m \u001b[31m3.4 MB/s\u001b[0m eta \u001b[36m0:00:00\u001b[0m\n",
            "\u001b[?25hCollecting chromadb==0.5.3\n",
            "  Downloading chromadb-0.5.3-py3-none-any.whl.metadata (6.8 kB)\n",
            "Requirement already satisfied: build>=1.0.3 in /usr/local/lib/python3.10/dist-packages (from chromadb==0.5.3) (1.2.2)\n",
            "Requirement already satisfied: requests>=2.28 in /usr/local/lib/python3.10/dist-packages (from chromadb==0.5.3) (2.32.3)\n",
            "Requirement already satisfied: pydantic>=1.9 in /usr/local/lib/python3.10/dist-packages (from chromadb==0.5.3) (2.9.2)\n",
            "Collecting chroma-hnswlib==0.7.3 (from chromadb==0.5.3)\n",
            "  Downloading chroma_hnswlib-0.7.3-cp310-cp310-manylinux_2_17_x86_64.manylinux2014_x86_64.whl.metadata (252 bytes)\n",
            "Collecting fastapi>=0.95.2 (from chromadb==0.5.3)\n",
            "  Downloading fastapi-0.115.0-py3-none-any.whl.metadata (27 kB)\n",
            "Collecting uvicorn>=0.18.3 (from uvicorn[standard]>=0.18.3->chromadb==0.5.3)\n",
            "  Downloading uvicorn-0.31.0-py3-none-any.whl.metadata (6.6 kB)\n",
            "Requirement already satisfied: numpy<2.0.0,>=1.22.5 in /usr/local/lib/python3.10/dist-packages (from chromadb==0.5.3) (1.26.4)\n",
            "Collecting posthog>=2.4.0 (from chromadb==0.5.3)\n",
            "  Downloading posthog-3.6.6-py2.py3-none-any.whl.metadata (2.0 kB)\n",
            "Requirement already satisfied: typing-extensions>=4.5.0 in /usr/local/lib/python3.10/dist-packages (from chromadb==0.5.3) (4.12.2)\n",
            "Collecting onnxruntime>=1.14.1 (from chromadb==0.5.3)\n",
            "  Downloading onnxruntime-1.19.2-cp310-cp310-manylinux_2_27_x86_64.manylinux_2_28_x86_64.whl.metadata (4.5 kB)\n",
            "Collecting opentelemetry-api>=1.2.0 (from chromadb==0.5.3)\n",
            "  Downloading opentelemetry_api-1.27.0-py3-none-any.whl.metadata (1.4 kB)\n",
            "Collecting opentelemetry-exporter-otlp-proto-grpc>=1.2.0 (from chromadb==0.5.3)\n",
            "  Downloading opentelemetry_exporter_otlp_proto_grpc-1.27.0-py3-none-any.whl.metadata (2.3 kB)\n",
            "Collecting opentelemetry-instrumentation-fastapi>=0.41b0 (from chromadb==0.5.3)\n",
            "  Downloading opentelemetry_instrumentation_fastapi-0.48b0-py3-none-any.whl.metadata (2.1 kB)\n",
            "Collecting opentelemetry-sdk>=1.2.0 (from chromadb==0.5.3)\n",
            "  Downloading opentelemetry_sdk-1.27.0-py3-none-any.whl.metadata (1.5 kB)\n",
            "Requirement already satisfied: tokenizers>=0.13.2 in /usr/local/lib/python3.10/dist-packages (from chromadb==0.5.3) (0.19.1)\n",
            "Collecting pypika>=0.48.9 (from chromadb==0.5.3)\n",
            "  Downloading PyPika-0.48.9.tar.gz (67 kB)\n",
            "\u001b[2K     \u001b[90m━━━━━━━━━━━━━━━━━━━━━━━━━━━━━━━━━━━━━━━━\u001b[0m \u001b[32m67.3/67.3 kB\u001b[0m \u001b[31m2.8 MB/s\u001b[0m eta \u001b[36m0:00:00\u001b[0m\n",
            "\u001b[?25h  Installing build dependencies ... \u001b[?25l\u001b[?25hdone\n",
            "  Getting requirements to build wheel ... \u001b[?25l\u001b[?25hdone\n",
            "  Preparing metadata (pyproject.toml) ... \u001b[?25l\u001b[?25hdone\n",
            "Requirement already satisfied: tqdm>=4.65.0 in /usr/local/lib/python3.10/dist-packages (from chromadb==0.5.3) (4.66.5)\n",
            "Collecting overrides>=7.3.1 (from chromadb==0.5.3)\n",
            "  Downloading overrides-7.7.0-py3-none-any.whl.metadata (5.8 kB)\n",
            "Requirement already satisfied: importlib-resources in /usr/local/lib/python3.10/dist-packages (from chromadb==0.5.3) (6.4.5)\n",
            "Requirement already satisfied: grpcio>=1.58.0 in /usr/local/lib/python3.10/dist-packages (from chromadb==0.5.3) (1.64.1)\n",
            "Collecting bcrypt>=4.0.1 (from chromadb==0.5.3)\n",
            "  Downloading bcrypt-4.2.0-cp39-abi3-manylinux_2_28_x86_64.whl.metadata (9.6 kB)\n",
            "Requirement already satisfied: typer>=0.9.0 in /usr/local/lib/python3.10/dist-packages (from chromadb==0.5.3) (0.12.5)\n",
            "Collecting kubernetes>=28.1.0 (from chromadb==0.5.3)\n",
            "  Downloading kubernetes-31.0.0-py2.py3-none-any.whl.metadata (1.5 kB)\n",
            "Requirement already satisfied: tenacity>=8.2.3 in /usr/local/lib/python3.10/dist-packages (from chromadb==0.5.3) (8.5.0)\n",
            "Requirement already satisfied: PyYAML>=6.0.0 in /usr/local/lib/python3.10/dist-packages (from chromadb==0.5.3) (6.0.2)\n",
            "Collecting mmh3>=4.0.1 (from chromadb==0.5.3)\n",
            "  Downloading mmh3-5.0.1-cp310-cp310-manylinux_2_5_x86_64.manylinux1_x86_64.manylinux_2_17_x86_64.manylinux2014_x86_64.whl.metadata (14 kB)\n",
            "Requirement already satisfied: orjson>=3.9.12 in /usr/local/lib/python3.10/dist-packages (from chromadb==0.5.3) (3.10.7)\n",
            "Requirement already satisfied: httpx>=0.27.0 in /usr/local/lib/python3.10/dist-packages (from chromadb==0.5.3) (0.27.2)\n",
            "Requirement already satisfied: packaging>=19.1 in /usr/local/lib/python3.10/dist-packages (from build>=1.0.3->chromadb==0.5.3) (24.1)\n",
            "Requirement already satisfied: pyproject_hooks in /usr/local/lib/python3.10/dist-packages (from build>=1.0.3->chromadb==0.5.3) (1.1.0)\n",
            "Requirement already satisfied: tomli>=1.1.0 in /usr/local/lib/python3.10/dist-packages (from build>=1.0.3->chromadb==0.5.3) (2.0.1)\n",
            "Collecting starlette<0.39.0,>=0.37.2 (from fastapi>=0.95.2->chromadb==0.5.3)\n",
            "  Downloading starlette-0.38.6-py3-none-any.whl.metadata (6.0 kB)\n",
            "Requirement already satisfied: anyio in /usr/local/lib/python3.10/dist-packages (from httpx>=0.27.0->chromadb==0.5.3) (3.7.1)\n",
            "Requirement already satisfied: certifi in /usr/local/lib/python3.10/dist-packages (from httpx>=0.27.0->chromadb==0.5.3) (2024.8.30)\n",
            "Requirement already satisfied: httpcore==1.* in /usr/local/lib/python3.10/dist-packages (from httpx>=0.27.0->chromadb==0.5.3) (1.0.5)\n",
            "Requirement already satisfied: idna in /usr/local/lib/python3.10/dist-packages (from httpx>=0.27.0->chromadb==0.5.3) (3.10)\n",
            "Requirement already satisfied: sniffio in /usr/local/lib/python3.10/dist-packages (from httpx>=0.27.0->chromadb==0.5.3) (1.3.1)\n",
            "Requirement already satisfied: h11<0.15,>=0.13 in /usr/local/lib/python3.10/dist-packages (from httpcore==1.*->httpx>=0.27.0->chromadb==0.5.3) (0.14.0)\n",
            "Requirement already satisfied: six>=1.9.0 in /usr/local/lib/python3.10/dist-packages (from kubernetes>=28.1.0->chromadb==0.5.3) (1.16.0)\n",
            "Requirement already satisfied: python-dateutil>=2.5.3 in /usr/local/lib/python3.10/dist-packages (from kubernetes>=28.1.0->chromadb==0.5.3) (2.8.2)\n",
            "Requirement already satisfied: google-auth>=1.0.1 in /usr/local/lib/python3.10/dist-packages (from kubernetes>=28.1.0->chromadb==0.5.3) (2.27.0)\n",
            "Requirement already satisfied: websocket-client!=0.40.0,!=0.41.*,!=0.42.*,>=0.32.0 in /usr/local/lib/python3.10/dist-packages (from kubernetes>=28.1.0->chromadb==0.5.3) (1.8.0)\n",
            "Requirement already satisfied: requests-oauthlib in /usr/local/lib/python3.10/dist-packages (from kubernetes>=28.1.0->chromadb==0.5.3) (1.3.1)\n",
            "Requirement already satisfied: oauthlib>=3.2.2 in /usr/local/lib/python3.10/dist-packages (from kubernetes>=28.1.0->chromadb==0.5.3) (3.2.2)\n",
            "Requirement already satisfied: urllib3>=1.24.2 in /usr/local/lib/python3.10/dist-packages (from kubernetes>=28.1.0->chromadb==0.5.3) (2.2.3)\n",
            "Collecting durationpy>=0.7 (from kubernetes>=28.1.0->chromadb==0.5.3)\n",
            "  Downloading durationpy-0.7.tar.gz (3.2 kB)\n",
            "  Preparing metadata (setup.py) ... \u001b[?25l\u001b[?25hdone\n",
            "Collecting coloredlogs (from onnxruntime>=1.14.1->chromadb==0.5.3)\n",
            "  Downloading coloredlogs-15.0.1-py2.py3-none-any.whl.metadata (12 kB)\n",
            "Requirement already satisfied: flatbuffers in /usr/local/lib/python3.10/dist-packages (from onnxruntime>=1.14.1->chromadb==0.5.3) (24.3.25)\n",
            "Requirement already satisfied: protobuf in /usr/local/lib/python3.10/dist-packages (from onnxruntime>=1.14.1->chromadb==0.5.3) (3.20.3)\n",
            "Requirement already satisfied: sympy in /usr/local/lib/python3.10/dist-packages (from onnxruntime>=1.14.1->chromadb==0.5.3) (1.13.3)\n",
            "Collecting deprecated>=1.2.6 (from opentelemetry-api>=1.2.0->chromadb==0.5.3)\n",
            "  Downloading Deprecated-1.2.14-py2.py3-none-any.whl.metadata (5.4 kB)\n",
            "Collecting importlib-metadata<=8.4.0,>=6.0 (from opentelemetry-api>=1.2.0->chromadb==0.5.3)\n",
            "  Downloading importlib_metadata-8.4.0-py3-none-any.whl.metadata (4.7 kB)\n",
            "Requirement already satisfied: googleapis-common-protos~=1.52 in /usr/local/lib/python3.10/dist-packages (from opentelemetry-exporter-otlp-proto-grpc>=1.2.0->chromadb==0.5.3) (1.65.0)\n",
            "Collecting opentelemetry-exporter-otlp-proto-common==1.27.0 (from opentelemetry-exporter-otlp-proto-grpc>=1.2.0->chromadb==0.5.3)\n",
            "  Downloading opentelemetry_exporter_otlp_proto_common-1.27.0-py3-none-any.whl.metadata (1.8 kB)\n",
            "Collecting opentelemetry-proto==1.27.0 (from opentelemetry-exporter-otlp-proto-grpc>=1.2.0->chromadb==0.5.3)\n",
            "  Downloading opentelemetry_proto-1.27.0-py3-none-any.whl.metadata (2.3 kB)\n",
            "Collecting opentelemetry-instrumentation-asgi==0.48b0 (from opentelemetry-instrumentation-fastapi>=0.41b0->chromadb==0.5.3)\n",
            "  Downloading opentelemetry_instrumentation_asgi-0.48b0-py3-none-any.whl.metadata (2.0 kB)\n",
            "Collecting opentelemetry-instrumentation==0.48b0 (from opentelemetry-instrumentation-fastapi>=0.41b0->chromadb==0.5.3)\n",
            "  Downloading opentelemetry_instrumentation-0.48b0-py3-none-any.whl.metadata (6.1 kB)\n",
            "Collecting opentelemetry-semantic-conventions==0.48b0 (from opentelemetry-instrumentation-fastapi>=0.41b0->chromadb==0.5.3)\n",
            "  Downloading opentelemetry_semantic_conventions-0.48b0-py3-none-any.whl.metadata (2.4 kB)\n",
            "Collecting opentelemetry-util-http==0.48b0 (from opentelemetry-instrumentation-fastapi>=0.41b0->chromadb==0.5.3)\n",
            "  Downloading opentelemetry_util_http-0.48b0-py3-none-any.whl.metadata (2.5 kB)\n",
            "Requirement already satisfied: setuptools>=16.0 in /usr/local/lib/python3.10/dist-packages (from opentelemetry-instrumentation==0.48b0->opentelemetry-instrumentation-fastapi>=0.41b0->chromadb==0.5.3) (71.0.4)\n",
            "Requirement already satisfied: wrapt<2.0.0,>=1.0.0 in /usr/local/lib/python3.10/dist-packages (from opentelemetry-instrumentation==0.48b0->opentelemetry-instrumentation-fastapi>=0.41b0->chromadb==0.5.3) (1.16.0)\n",
            "Collecting asgiref~=3.0 (from opentelemetry-instrumentation-asgi==0.48b0->opentelemetry-instrumentation-fastapi>=0.41b0->chromadb==0.5.3)\n",
            "  Downloading asgiref-3.8.1-py3-none-any.whl.metadata (9.3 kB)\n",
            "Collecting monotonic>=1.5 (from posthog>=2.4.0->chromadb==0.5.3)\n",
            "  Downloading monotonic-1.6-py2.py3-none-any.whl.metadata (1.5 kB)\n",
            "Collecting backoff>=1.10.0 (from posthog>=2.4.0->chromadb==0.5.3)\n",
            "  Downloading backoff-2.2.1-py3-none-any.whl.metadata (14 kB)\n",
            "Requirement already satisfied: annotated-types>=0.6.0 in /usr/local/lib/python3.10/dist-packages (from pydantic>=1.9->chromadb==0.5.3) (0.7.0)\n",
            "Requirement already satisfied: pydantic-core==2.23.4 in /usr/local/lib/python3.10/dist-packages (from pydantic>=1.9->chromadb==0.5.3) (2.23.4)\n",
            "Requirement already satisfied: charset-normalizer<4,>=2 in /usr/local/lib/python3.10/dist-packages (from requests>=2.28->chromadb==0.5.3) (3.3.2)\n",
            "Requirement already satisfied: huggingface-hub<1.0,>=0.16.4 in /usr/local/lib/python3.10/dist-packages (from tokenizers>=0.13.2->chromadb==0.5.3) (0.24.7)\n",
            "Requirement already satisfied: click>=8.0.0 in /usr/local/lib/python3.10/dist-packages (from typer>=0.9.0->chromadb==0.5.3) (8.1.7)\n",
            "Requirement already satisfied: shellingham>=1.3.0 in /usr/local/lib/python3.10/dist-packages (from typer>=0.9.0->chromadb==0.5.3) (1.5.4)\n",
            "Requirement already satisfied: rich>=10.11.0 in /usr/local/lib/python3.10/dist-packages (from typer>=0.9.0->chromadb==0.5.3) (13.8.1)\n",
            "Collecting httptools>=0.5.0 (from uvicorn[standard]>=0.18.3->chromadb==0.5.3)\n",
            "  Downloading httptools-0.6.1-cp310-cp310-manylinux_2_5_x86_64.manylinux1_x86_64.manylinux_2_17_x86_64.manylinux2014_x86_64.whl.metadata (3.6 kB)\n",
            "Requirement already satisfied: python-dotenv>=0.13 in /usr/local/lib/python3.10/dist-packages (from uvicorn[standard]>=0.18.3->chromadb==0.5.3) (1.0.1)\n",
            "Collecting uvloop!=0.15.0,!=0.15.1,>=0.14.0 (from uvicorn[standard]>=0.18.3->chromadb==0.5.3)\n",
            "  Downloading uvloop-0.20.0-cp310-cp310-manylinux_2_17_x86_64.manylinux2014_x86_64.whl.metadata (4.9 kB)\n",
            "Collecting watchfiles>=0.13 (from uvicorn[standard]>=0.18.3->chromadb==0.5.3)\n",
            "  Downloading watchfiles-0.24.0-cp310-cp310-manylinux_2_17_x86_64.manylinux2014_x86_64.whl.metadata (4.9 kB)\n",
            "Collecting websockets>=10.4 (from uvicorn[standard]>=0.18.3->chromadb==0.5.3)\n",
            "  Downloading websockets-13.1-cp310-cp310-manylinux_2_5_x86_64.manylinux1_x86_64.manylinux_2_17_x86_64.manylinux2014_x86_64.whl.metadata (6.8 kB)\n",
            "Requirement already satisfied: cachetools<6.0,>=2.0.0 in /usr/local/lib/python3.10/dist-packages (from google-auth>=1.0.1->kubernetes>=28.1.0->chromadb==0.5.3) (5.5.0)\n",
            "Requirement already satisfied: pyasn1-modules>=0.2.1 in /usr/local/lib/python3.10/dist-packages (from google-auth>=1.0.1->kubernetes>=28.1.0->chromadb==0.5.3) (0.4.1)\n",
            "Requirement already satisfied: rsa<5,>=3.1.4 in /usr/local/lib/python3.10/dist-packages (from google-auth>=1.0.1->kubernetes>=28.1.0->chromadb==0.5.3) (4.9)\n",
            "Requirement already satisfied: filelock in /usr/local/lib/python3.10/dist-packages (from huggingface-hub<1.0,>=0.16.4->tokenizers>=0.13.2->chromadb==0.5.3) (3.16.1)\n",
            "Requirement already satisfied: fsspec>=2023.5.0 in /usr/local/lib/python3.10/dist-packages (from huggingface-hub<1.0,>=0.16.4->tokenizers>=0.13.2->chromadb==0.5.3) (2024.6.1)\n",
            "Requirement already satisfied: zipp>=0.5 in /usr/local/lib/python3.10/dist-packages (from importlib-metadata<=8.4.0,>=6.0->opentelemetry-api>=1.2.0->chromadb==0.5.3) (3.20.2)\n",
            "Requirement already satisfied: markdown-it-py>=2.2.0 in /usr/local/lib/python3.10/dist-packages (from rich>=10.11.0->typer>=0.9.0->chromadb==0.5.3) (3.0.0)\n",
            "Requirement already satisfied: pygments<3.0.0,>=2.13.0 in /usr/local/lib/python3.10/dist-packages (from rich>=10.11.0->typer>=0.9.0->chromadb==0.5.3) (2.18.0)\n",
            "Requirement already satisfied: exceptiongroup in /usr/local/lib/python3.10/dist-packages (from anyio->httpx>=0.27.0->chromadb==0.5.3) (1.2.2)\n",
            "Collecting humanfriendly>=9.1 (from coloredlogs->onnxruntime>=1.14.1->chromadb==0.5.3)\n",
            "  Downloading humanfriendly-10.0-py2.py3-none-any.whl.metadata (9.2 kB)\n",
            "Requirement already satisfied: mpmath<1.4,>=1.1.0 in /usr/local/lib/python3.10/dist-packages (from sympy->onnxruntime>=1.14.1->chromadb==0.5.3) (1.3.0)\n",
            "Requirement already satisfied: mdurl~=0.1 in /usr/local/lib/python3.10/dist-packages (from markdown-it-py>=2.2.0->rich>=10.11.0->typer>=0.9.0->chromadb==0.5.3) (0.1.2)\n",
            "Requirement already satisfied: pyasn1<0.7.0,>=0.4.6 in /usr/local/lib/python3.10/dist-packages (from pyasn1-modules>=0.2.1->google-auth>=1.0.1->kubernetes>=28.1.0->chromadb==0.5.3) (0.6.1)\n",
            "Downloading chromadb-0.5.3-py3-none-any.whl (559 kB)\n",
            "\u001b[2K   \u001b[90m━━━━━━━━━━━━━━━━━━━━━━━━━━━━━━━━━━━━━━━━\u001b[0m \u001b[32m559.5/559.5 kB\u001b[0m \u001b[31m14.5 MB/s\u001b[0m eta \u001b[36m0:00:00\u001b[0m\n",
            "\u001b[?25hDownloading chroma_hnswlib-0.7.3-cp310-cp310-manylinux_2_17_x86_64.manylinux2014_x86_64.whl (2.4 MB)\n",
            "\u001b[2K   \u001b[90m━━━━━━━━━━━━━━━━━━━━━━━━━━━━━━━━━━━━━━━━\u001b[0m \u001b[32m2.4/2.4 MB\u001b[0m \u001b[31m36.7 MB/s\u001b[0m eta \u001b[36m0:00:00\u001b[0m\n",
            "\u001b[?25hDownloading bcrypt-4.2.0-cp39-abi3-manylinux_2_28_x86_64.whl (273 kB)\n",
            "\u001b[2K   \u001b[90m━━━━━━━━━━━━━━━━━━━━━━━━━━━━━━━━━━━━━━━━\u001b[0m \u001b[32m273.8/273.8 kB\u001b[0m \u001b[31m16.0 MB/s\u001b[0m eta \u001b[36m0:00:00\u001b[0m\n",
            "\u001b[?25hDownloading fastapi-0.115.0-py3-none-any.whl (94 kB)\n",
            "\u001b[2K   \u001b[90m━━━━━━━━━━━━━━━━━━━━━━━━━━━━━━━━━━━━━━━━\u001b[0m \u001b[32m94.6/94.6 kB\u001b[0m \u001b[31m6.2 MB/s\u001b[0m eta \u001b[36m0:00:00\u001b[0m\n",
            "\u001b[?25hDownloading kubernetes-31.0.0-py2.py3-none-any.whl (1.9 MB)\n",
            "\u001b[2K   \u001b[90m━━━━━━━━━━━━━━━━━━━━━━━━━━━━━━━━━━━━━━━━\u001b[0m \u001b[32m1.9/1.9 MB\u001b[0m \u001b[31m51.2 MB/s\u001b[0m eta \u001b[36m0:00:00\u001b[0m\n",
            "\u001b[?25hDownloading mmh3-5.0.1-cp310-cp310-manylinux_2_5_x86_64.manylinux1_x86_64.manylinux_2_17_x86_64.manylinux2014_x86_64.whl (93 kB)\n",
            "\u001b[2K   \u001b[90m━━━━━━━━━━━━━━━━━━━━━━━━━━━━━━━━━━━━━━━━\u001b[0m \u001b[32m93.2/93.2 kB\u001b[0m \u001b[31m7.6 MB/s\u001b[0m eta \u001b[36m0:00:00\u001b[0m\n",
            "\u001b[?25hDownloading onnxruntime-1.19.2-cp310-cp310-manylinux_2_27_x86_64.manylinux_2_28_x86_64.whl (13.2 MB)\n",
            "\u001b[2K   \u001b[90m━━━━━━━━━━━━━━━━━━━━━━━━━━━━━━━━━━━━━━━━\u001b[0m \u001b[32m13.2/13.2 MB\u001b[0m \u001b[31m63.2 MB/s\u001b[0m eta \u001b[36m0:00:00\u001b[0m\n",
            "\u001b[?25hDownloading opentelemetry_api-1.27.0-py3-none-any.whl (63 kB)\n",
            "\u001b[2K   \u001b[90m━━━━━━━━━━━━━━━━━━━━━━━━━━━━━━━━━━━━━━━━\u001b[0m \u001b[32m64.0/64.0 kB\u001b[0m \u001b[31m3.8 MB/s\u001b[0m eta \u001b[36m0:00:00\u001b[0m\n",
            "\u001b[?25hDownloading opentelemetry_exporter_otlp_proto_grpc-1.27.0-py3-none-any.whl (18 kB)\n",
            "Downloading opentelemetry_exporter_otlp_proto_common-1.27.0-py3-none-any.whl (17 kB)\n",
            "Downloading opentelemetry_proto-1.27.0-py3-none-any.whl (52 kB)\n",
            "\u001b[2K   \u001b[90m━━━━━━━━━━━━━━━━━━━━━━━━━━━━━━━━━━━━━━━━\u001b[0m \u001b[32m52.5/52.5 kB\u001b[0m \u001b[31m4.0 MB/s\u001b[0m eta \u001b[36m0:00:00\u001b[0m\n",
            "\u001b[?25hDownloading opentelemetry_instrumentation_fastapi-0.48b0-py3-none-any.whl (11 kB)\n",
            "Downloading opentelemetry_instrumentation-0.48b0-py3-none-any.whl (29 kB)\n",
            "Downloading opentelemetry_instrumentation_asgi-0.48b0-py3-none-any.whl (15 kB)\n",
            "Downloading opentelemetry_semantic_conventions-0.48b0-py3-none-any.whl (149 kB)\n",
            "\u001b[2K   \u001b[90m━━━━━━━━━━━━━━━━━━━━━━━━━━━━━━━━━━━━━━━━\u001b[0m \u001b[32m149.7/149.7 kB\u001b[0m \u001b[31m9.9 MB/s\u001b[0m eta \u001b[36m0:00:00\u001b[0m\n",
            "\u001b[?25hDownloading opentelemetry_util_http-0.48b0-py3-none-any.whl (6.9 kB)\n",
            "Downloading opentelemetry_sdk-1.27.0-py3-none-any.whl (110 kB)\n",
            "\u001b[2K   \u001b[90m━━━━━━━━━━━━━━━━━━━━━━━━━━━━━━━━━━━━━━━━\u001b[0m \u001b[32m110.5/110.5 kB\u001b[0m \u001b[31m8.3 MB/s\u001b[0m eta \u001b[36m0:00:00\u001b[0m\n",
            "\u001b[?25hDownloading overrides-7.7.0-py3-none-any.whl (17 kB)\n",
            "Downloading posthog-3.6.6-py2.py3-none-any.whl (54 kB)\n",
            "\u001b[2K   \u001b[90m━━━━━━━━━━━━━━━━━━━━━━━━━━━━━━━━━━━━━━━━\u001b[0m \u001b[32m54.3/54.3 kB\u001b[0m \u001b[31m3.5 MB/s\u001b[0m eta \u001b[36m0:00:00\u001b[0m\n",
            "\u001b[?25hDownloading uvicorn-0.31.0-py3-none-any.whl (63 kB)\n",
            "\u001b[2K   \u001b[90m━━━━━━━━━━━━━━━━━━━━━━━━━━━━━━━━━━━━━━━━\u001b[0m \u001b[32m63.7/63.7 kB\u001b[0m \u001b[31m4.2 MB/s\u001b[0m eta \u001b[36m0:00:00\u001b[0m\n",
            "\u001b[?25hDownloading backoff-2.2.1-py3-none-any.whl (15 kB)\n",
            "Downloading Deprecated-1.2.14-py2.py3-none-any.whl (9.6 kB)\n",
            "Downloading httptools-0.6.1-cp310-cp310-manylinux_2_5_x86_64.manylinux1_x86_64.manylinux_2_17_x86_64.manylinux2014_x86_64.whl (341 kB)\n",
            "\u001b[2K   \u001b[90m━━━━━━━━━━━━━━━━━━━━━━━━━━━━━━━━━━━━━━━━\u001b[0m \u001b[32m341.4/341.4 kB\u001b[0m \u001b[31m20.3 MB/s\u001b[0m eta \u001b[36m0:00:00\u001b[0m\n",
            "\u001b[?25hDownloading importlib_metadata-8.4.0-py3-none-any.whl (26 kB)\n",
            "Downloading monotonic-1.6-py2.py3-none-any.whl (8.2 kB)\n",
            "Downloading starlette-0.38.6-py3-none-any.whl (71 kB)\n",
            "\u001b[2K   \u001b[90m━━━━━━━━━━━━━━━━━━━━━━━━━━━━━━━━━━━━━━━━\u001b[0m \u001b[32m71.5/71.5 kB\u001b[0m \u001b[31m5.2 MB/s\u001b[0m eta \u001b[36m0:00:00\u001b[0m\n",
            "\u001b[?25hDownloading uvloop-0.20.0-cp310-cp310-manylinux_2_17_x86_64.manylinux2014_x86_64.whl (3.4 MB)\n",
            "\u001b[2K   \u001b[90m━━━━━━━━━━━━━━━━━━━━━━━━━━━━━━━━━━━━━━━━\u001b[0m \u001b[32m3.4/3.4 MB\u001b[0m \u001b[31m83.3 MB/s\u001b[0m eta \u001b[36m0:00:00\u001b[0m\n",
            "\u001b[?25hDownloading watchfiles-0.24.0-cp310-cp310-manylinux_2_17_x86_64.manylinux2014_x86_64.whl (425 kB)\n",
            "\u001b[2K   \u001b[90m━━━━━━━━━━━━━━━━━━━━━━━━━━━━━━━━━━━━━━━━\u001b[0m \u001b[32m425.7/425.7 kB\u001b[0m \u001b[31m20.8 MB/s\u001b[0m eta \u001b[36m0:00:00\u001b[0m\n",
            "\u001b[?25hDownloading websockets-13.1-cp310-cp310-manylinux_2_5_x86_64.manylinux1_x86_64.manylinux_2_17_x86_64.manylinux2014_x86_64.whl (164 kB)\n",
            "\u001b[2K   \u001b[90m━━━━━━━━━━━━━━━━━━━━━━━━━━━━━━━━━━━━━━━━\u001b[0m \u001b[32m164.1/164.1 kB\u001b[0m \u001b[31m11.9 MB/s\u001b[0m eta \u001b[36m0:00:00\u001b[0m\n",
            "\u001b[?25hDownloading coloredlogs-15.0.1-py2.py3-none-any.whl (46 kB)\n",
            "\u001b[2K   \u001b[90m━━━━━━━━━━━━━━━━━━━━━━━━━━━━━━━━━━━━━━━━\u001b[0m \u001b[32m46.0/46.0 kB\u001b[0m \u001b[31m3.5 MB/s\u001b[0m eta \u001b[36m0:00:00\u001b[0m\n",
            "\u001b[?25hDownloading asgiref-3.8.1-py3-none-any.whl (23 kB)\n",
            "Downloading humanfriendly-10.0-py2.py3-none-any.whl (86 kB)\n",
            "\u001b[2K   \u001b[90m━━━━━━━━━━━━━━━━━━━━━━━━━━━━━━━━━━━━━━━━\u001b[0m \u001b[32m86.8/86.8 kB\u001b[0m \u001b[31m7.0 MB/s\u001b[0m eta \u001b[36m0:00:00\u001b[0m\n",
            "\u001b[?25hBuilding wheels for collected packages: pypika, durationpy\n",
            "  Building wheel for pypika (pyproject.toml) ... \u001b[?25l\u001b[?25hdone\n",
            "  Created wheel for pypika: filename=PyPika-0.48.9-py2.py3-none-any.whl size=53723 sha256=01f5b77e0426b2c4124cb5486e1ff178d633e8926d78f005da1ff21a4c56668f\n",
            "  Stored in directory: /root/.cache/pip/wheels/e1/26/51/d0bffb3d2fd82256676d7ad3003faea3bd6dddc9577af665f4\n",
            "  Building wheel for durationpy (setup.py) ... \u001b[?25l\u001b[?25hdone\n",
            "  Created wheel for durationpy: filename=durationpy-0.7-py3-none-any.whl size=3462 sha256=6eea96e21853e46c4974b25ba434359af3b00303cfb0c384967a9e8ba1683cef\n",
            "  Stored in directory: /root/.cache/pip/wheels/a2/52/58/701659d0f7467c85c273d8d06d8f74f2646ee7da4145ce77b5\n",
            "Successfully built pypika durationpy\n",
            "Installing collected packages: pypika, monotonic, durationpy, websockets, uvloop, uvicorn, overrides, opentelemetry-util-http, opentelemetry-proto, mmh3, importlib-metadata, humanfriendly, httptools, deprecated, chroma-hnswlib, bcrypt, backoff, asgiref, watchfiles, starlette, posthog, opentelemetry-exporter-otlp-proto-common, opentelemetry-api, coloredlogs, opentelemetry-semantic-conventions, opentelemetry-instrumentation, onnxruntime, kubernetes, fastapi, opentelemetry-sdk, opentelemetry-instrumentation-asgi, opentelemetry-instrumentation-fastapi, opentelemetry-exporter-otlp-proto-grpc, chromadb\n",
            "  Attempting uninstall: importlib-metadata\n",
            "    Found existing installation: importlib_metadata 8.5.0\n",
            "    Uninstalling importlib_metadata-8.5.0:\n",
            "      Successfully uninstalled importlib_metadata-8.5.0\n",
            "Successfully installed asgiref-3.8.1 backoff-2.2.1 bcrypt-4.2.0 chroma-hnswlib-0.7.3 chromadb-0.5.3 coloredlogs-15.0.1 deprecated-1.2.14 durationpy-0.7 fastapi-0.115.0 httptools-0.6.1 humanfriendly-10.0 importlib-metadata-8.4.0 kubernetes-31.0.0 mmh3-5.0.1 monotonic-1.6 onnxruntime-1.19.2 opentelemetry-api-1.27.0 opentelemetry-exporter-otlp-proto-common-1.27.0 opentelemetry-exporter-otlp-proto-grpc-1.27.0 opentelemetry-instrumentation-0.48b0 opentelemetry-instrumentation-asgi-0.48b0 opentelemetry-instrumentation-fastapi-0.48b0 opentelemetry-proto-1.27.0 opentelemetry-sdk-1.27.0 opentelemetry-semantic-conventions-0.48b0 opentelemetry-util-http-0.48b0 overrides-7.7.0 posthog-3.6.6 pypika-0.48.9 starlette-0.38.6 uvicorn-0.31.0 uvloop-0.20.0 watchfiles-0.24.0 websockets-13.1\n"
          ]
        }
      ],
      "source": [
        "! pip install -qU langchain-openai langchain langchain_community langchainhub\n",
        "! pip install chromadb==0.5.3"
      ]
    },
    {
      "cell_type": "code",
      "source": [
        "from langchain import hub as langchain_hub\n",
        "from langchain.schema import StrOutputParser\n",
        "from langchain_openai import ChatOpenAI\n",
        "from langchain.schema.runnable import RunnablePassthrough\n",
        "from langchain.text_splitter import MarkdownHeaderTextSplitter\n",
        "from langchain_openai import OpenAIEmbeddings\n",
        "import os\n",
        "#from langchain_chroma import Chroma\n",
        "from langchain_community.vectorstores.chroma import Chroma"
      ],
      "metadata": {
        "id": "M_7cL0OSv6A0"
      },
      "execution_count": 3,
      "outputs": []
    },
    {
      "cell_type": "markdown",
      "source": [
        "## 对数据进行切片，存入向量数据库chroma"
      ],
      "metadata": {
        "id": "jxiJhZJvyizj"
      }
    },
    {
      "cell_type": "code",
      "source": [
        "# 读取 ./data/data.md 文件作为运维知识库\n",
        "file_path = os.path.join('data', 'data.md')\n",
        "with open(file_path, 'r', encoding='utf-8') as file:\n",
        "    docs_string = file.read()\n",
        "\n",
        "# Split the document into chunks base on markdown headers.\n",
        "headers_to_split_on = [\n",
        "    (\"#\", \"Header 1\"),\n",
        "    (\"##\", \"Header 2\"),\n",
        "    (\"###\", \"Header 3\"),\n",
        "]\n",
        "text_splitter = MarkdownHeaderTextSplitter(headers_to_split_on=headers_to_split_on)\n",
        "splits = text_splitter.split_text(docs_string)\n",
        "print(\"Length of splits: \" + str(len(splits)))\n",
        "print(splits)"
      ],
      "metadata": {
        "colab": {
          "base_uri": "https://localhost:8080/"
        },
        "id": "qh0PhBLBxLx6",
        "outputId": "e8a83313-bce3-43c0-dea0-7c92720aca24"
      },
      "execution_count": 6,
      "outputs": [
        {
          "output_type": "stream",
          "name": "stdout",
          "text": [
            "Length of splits: 11\n",
            "[Document(metadata={'Header 1': '支付系统运维知识库', 'Header 2': '1. 系统监控指标'}, page_content='- **交易量**: 监控每秒交易数，确保系统承载能力。\\n- **响应时间**: 监控交易的平均响应时间，确保服务性能。\\n- **系统负载**: 监控CPU、内存等资源使用率，避免资源瓶颈。'), Document(metadata={'Header 1': '支付系统运维知识库', 'Header 2': '2. 常见问题与解决方案', 'Header 3': '2.1 交易失败'}, page_content='- **问题描述**: 用户发起支付后，交易未能成功完成。\\n- **可能原因**:\\n- 网络延迟或中断\\n- 支付网关服务异常\\n- **解决办法**:\\n- 检查网络连接，确保支付服务的网络畅通。\\n- 检查支付网关服务状态，重启服务或联系服务提供商。'), Document(metadata={'Header 1': '支付系统运维知识库', 'Header 2': '2. 常见问题与解决方案', 'Header 3': '2.2 响应时间过长'}, page_content='- **问题描述**: 用户支付请求处理时间超过正常范围。\\n- **可能原因**:\\n- 系统资源不足\\n- 数据库查询效率低下\\n- 外部服务响应慢\\n- **解决办法**:\\n- 增加系统资源，如CPU、内存。\\n- 优化数据库查询，使用索引，减少复杂查询。\\n- 与外部服务提供商沟通，优化接口性能。'), Document(metadata={'Header 1': '支付系统运维知识库', 'Header 2': '2. 常见问题与解决方案', 'Header 3': '2.3 系统宕机'}, page_content='- **问题描述**: 支付系统完全无法访问或服务中断。\\n- **可能原因**:\\n- 主机硬件故障\\n- 系统软件崩溃\\n- 网络设备故障\\n- **解决办法**:\\n- 快速切换到备用服务器。\\n- 检查系统日志，定位问题原因。\\n- 联系硬件供应商，进行故障排查和修复。'), Document(metadata={'Header 1': '支付系统运维知识库', 'Header 2': '2. 常见问题与解决方案', 'Header 3': '2.4 安全问题'}, page_content='- **问题描述**: 检测到异常交易或系统遭受攻击。\\n- **可能原因**:\\n- 账户被盗用\\n- 系统存在安全漏洞\\n- DDoS攻击\\n- **解决办法**:\\n- 立即冻结异常账户，通知用户。\\n- 检查系统安全设置，更新安全补丁。\\n- 启用DDoS防护措施，如流量清洗。'), Document(metadata={'Header 1': '支付系统运维知识库', 'Header 2': '3. 日常运维任务'}, page_content='- **数据备份**: 定期备份数据库和重要文件，确保数据安全。\\n- **系统更新**: 定期更新系统和软件，修复已知漏洞。\\n- **性能调优**: 定期检查系统性能，进行必要的优化。'), Document(metadata={'Header 1': '支付系统运维知识库', 'Header 2': '4. 应急响应流程'}, page_content='- **发现问题**: 监控系统发现异常指标。\\n- **快速响应**: 立即通知运维团队，进行初步诊断。\\n- **问题定位**: 通过日志分析，定位问题原因。\\n- **解决方案**: 根据问题类型，执行相应的解决方案。\\n- **问题解决**: 确认问题解决，恢复正常服务。\\n- **后续跟进**: 记录问题处理过程，进行事后分析和总结。'), Document(metadata={'Header 1': '支付系统运维知识库', 'Header 2': '5. 性能优化建议'}, page_content='- **代码优化**: 定期审查代码，优化算法和逻辑。\\n- **资源扩展**: 根据业务增长，适时扩展系统资源。\\n- **负载均衡**: 使用负载均衡技术，分散请求压力。'), Document(metadata={'Header 1': '支付系统运维知识库', 'Header 2': '6. 安全策略'}, page_content='- **访问控制**: 严格控制系统访问权限，实行最小权限原则。\\n- **数据加密**: 对敏感数据进行加密处理，保护用户隐私。\\n- **安全审计**: 定期进行安全审计，检查潜在的安全风险。'), Document(metadata={'Header 1': '支付系统运维知识库', 'Header 2': '7. 联系方式'}, page_content='- **技术支持**: support@example.com\\n- **紧急联系**: emergency@example.com\\n- **客服热线**: 123-456-7890'), Document(metadata={'Header 1': '支付系统运维知识库', 'Header 2': '8. 业务负责人'}, page_content='- **payment**: 小张，联系方式：18888888888\\n- **payment_gateway**: 小王，联系方式：18888888889\\n- **payment_callback**: 小李，联系方式：18888888890')]\n"
          ]
        }
      ]
    },
    {
      "cell_type": "code",
      "source": [
        "# 将运维知识库的每一块文本向量化（Embedding）\n",
        "embedding = OpenAIEmbeddings(model=\"text-embedding-3-small\", openai_api_key=\"sk-T6SlqfUnyFytejvA3c1584F87d6343878232185e26243b1d\",openai_api_base=\"https://api.apiyi.com/v1\")\n",
        "vectorstore = Chroma.from_documents(documents=splits, embedding=embedding,persist_directory=\"./chroma_langchain_db\")\n",
        "vectorstore.persist()"
      ],
      "metadata": {
        "colab": {
          "base_uri": "https://localhost:8080/"
        },
        "id": "z6RmTw9TyhN1",
        "outputId": "9fc16746-24c2-4b17-ace0-414780dba6ec"
      },
      "execution_count": 7,
      "outputs": [
        {
          "output_type": "stream",
          "name": "stderr",
          "text": [
            "<ipython-input-7-95e725cfb409>:4: LangChainDeprecationWarning: Since Chroma 0.4.x the manual persistence method is no longer supported as docs are automatically persisted.\n",
            "  vectorstore.persist()\n"
          ]
        }
      ]
    },
    {
      "cell_type": "code",
      "source": [
        "# 文本相似性检索\n",
        "results = vectorstore.similarity_search_with_score(\n",
        "    \"payment_gateway服务\",\n",
        "    k=1,\n",
        ")\n",
        "for res, score in results:\n",
        "    print(f\"* [相似性={score:3f}] {res.page_content} [{res.metadata}]\")"
      ],
      "metadata": {
        "colab": {
          "base_uri": "https://localhost:8080/"
        },
        "id": "NMXauzZqyr2q",
        "outputId": "ae0361b5-e6af-4fc2-c12c-3b2c5afbbdc9"
      },
      "execution_count": 17,
      "outputs": [
        {
          "output_type": "stream",
          "name": "stdout",
          "text": [
            "* [相似性=0.870702] - **payment**: 小张，联系方式：18888888888\n",
            "- **payment_gateway**: 小王，联系方式：18888888889\n",
            "- **payment_callback**: 小李，联系方式：18888888890 [{'Header 1': '支付系统运维知识库', 'Header 2': '8. 业务负责人'}]\n"
          ]
        }
      ]
    },
    {
      "cell_type": "code",
      "source": [
        "# 向量检索\n",
        "\n",
        "results = vectorstore.similarity_search_by_vector_with_relevance_scores(\n",
        "    embedding=embedding.embed_query(\"payment 服务是谁维护的？\"), k=1\n",
        ")\n",
        "for doc, score in results:\n",
        "    print(f\"* [相似性={score:3f}] {doc.page_content} [{doc.metadata}]\")"
      ],
      "metadata": {
        "colab": {
          "base_uri": "https://localhost:8080/"
        },
        "id": "aSVgjQxLy4pj",
        "outputId": "222e4274-ce5a-48e3-9e5b-874e5e653fea"
      },
      "execution_count": 10,
      "outputs": [
        {
          "output_type": "stream",
          "name": "stdout",
          "text": [
            "* [相似性=1.088800] - **payment**: 小张，联系方式：18888888888\n",
            "- **payment_gateway**: 小王，联系方式：18888888889\n",
            "- **payment_callback**: 小李，联系方式：18888888890 [{'Header 1': '支付系统运维知识库', 'Header 2': '8. 业务负责人'}]\n"
          ]
        }
      ]
    },
    {
      "cell_type": "code",
      "source": [
        "# 向量检索时会把 input Embedding 之后转成向量\n",
        "from openai import OpenAI\n",
        "client = OpenAI(\n",
        "    api_key=\"sk-T6SlqfUnyFytejvA3c1584F87d6343878232185e26243b1d\",\n",
        "    base_url=\"https://api.apiyi.com/v1\"\n",
        ")\n",
        "\n",
        "response = client.embeddings.create(\n",
        "    input=\"payment 服务是谁维护的？\",\n",
        "    model=\"text-embedding-3-small\"\n",
        ")\n",
        "\n",
        "print(response.data[0].embedding)"
      ],
      "metadata": {
        "colab": {
          "base_uri": "https://localhost:8080/"
        },
        "id": "9Btkm5vpzL9n",
        "outputId": "4c59fdfc-7154-41f3-a7e7-3a5a25d130ea"
      },
      "execution_count": 12,
      "outputs": [
        {
          "output_type": "stream",
          "name": "stdout",
          "text": [
            "[0.013628354296088219, -0.03324894234538078, 0.05509673431515694, 0.008762978948652744, -0.004756004083901644, -0.002200687536969781, -0.015205956064164639, 0.051093071699142456, -0.006532462779432535, -0.05854359269142151, 0.09242887794971466, 0.0045969183556735516, 0.010479780845344067, -0.04435843974351883, -0.024923449382185936, 0.007172120735049248, -0.0306240264326334, 0.038843464106321335, -0.041998665779829025, -0.017658529803156853, 0.0033822315745055676, 0.03955934941768646, 0.0053525762632489204, -0.012216467410326004, -0.04157443717122078, 0.013628354296088219, -0.048759814351797104, -0.04176003485918045, 0.022431105375289917, -0.06421765685081482, 0.06363434344530106, -0.029722539708018303, 0.05615730583667755, 0.030385397374629974, 0.03812757506966591, -0.0027160595636814833, -0.00542880455031991, -0.029669512063264847, 0.017605500295758247, -0.006834063213318586, -0.02301442064344883, -0.05578610673546791, -0.003417031606659293, -0.022775791585445404, -0.006174519658088684, -0.006224234122782946, -0.03727911785244942, -0.003460117382928729, -0.009644580073654652, 0.01085760910063982, 0.0008447293075732887, 0.019050531089305878, 0.024777621030807495, -0.043934211134910583, 0.036245059221982956, 0.035502661019563675, 0.04335089400410652, 0.02701808139681816, 0.011653038673102856, 0.018135787919163704, 0.0030889168847352266, -0.006887091789394617, -0.08686087280511856, -0.01414538361132145, -0.0324535146355629, -0.0011127723846584558, -0.054990675300359726, 0.01922287419438362, -0.025599565356969833, -0.0055878907442092896, 0.005859662313014269, 0.02186104841530323, 0.0141586409881711, -0.022696249186992645, 0.018613044172525406, -0.013071554712951183, 0.021224703639745712, 0.0183346439152956, 0.010347208939492702, -0.005809947848320007, 0.007324577774852514, -0.02668665163218975, -0.037173062562942505, -0.0023846307303756475, -0.01681007258594036, 0.010022408328950405, -0.08691390603780746, 0.030040711164474487, -0.022895105183124542, 0.05233924463391304, 0.023146990686655045, 0.05231273174285889, -0.035396602004766464, 0.022364819422364235, 0.020429274067282677, -0.05199455842375755, -0.010400237515568733, 0.01662447117269039, 0.03051796928048134, 0.005756919272243977, -0.012687096372246742, -0.0449947826564312, -0.04565763846039772, -0.02175499126315117, 0.00243600201793015, -0.009432465769350529, -0.013893498107790947, -0.002581830834969878, -0.034654200077056885, 0.006986520253121853, -0.046930328011512756, 0.010758181102573872, -0.005471890326589346, -0.032347455620765686, 0.05493764951825142, 0.04610838368535042, -0.03218837082386017, -0.010267666541039944, -0.02839682437479496, -0.024963222444057465, -0.03719957545399666, 0.048309069126844406, 0.002038287464529276, -0.0034833173267543316, 0.0459492988884449, -0.009995894506573677, -0.03552917391061783, -0.018997501581907272, -0.041256263852119446, -0.02606356516480446, 0.04117672145366669, -0.04109717905521393, 0.019368702545762062, -0.030279340222477913, 0.006409834139049053, 0.0069136060774326324, -0.02219247631728649, 0.013946526683866978, -0.04101763665676117, -0.022855333983898163, 0.047089412808418274, -0.012541268020868301, 0.0036921175196766853, 0.009014865383505821, -0.014914298430085182, -0.09152739495038986, -0.02728322334587574, -0.026249166578054428, -0.03338151425123215, -0.02773396670818329, -0.0696265771985054, -0.030411912128329277, -0.008776236325502396, 0.04536598175764084, -0.05411570519208908, 0.0042721182107925415, 0.030411912128329277, 0.0399305485188961, -0.022987905889749527, 0.06808874756097794, -0.08134590089321136, -0.011653038673102856, -0.025122307240962982, -0.017685044556856155, 0.005461947526782751, 0.012627439573407173, -0.005882862489670515, -0.0510135293006897, -0.010333951562643051, -0.007072691805660725, -0.004944918677210808, -0.00169857288710773, -0.008762978948652744, 0.029855111613869667, -0.004649946931749582, -0.02316024899482727, 0.03608597442507744, -0.024021964520215988, -0.00029580024420283735, -0.04239638149738312, -0.0029994312208145857, -0.006595434155315161, 0.0343625433743, -0.012229724787175655, -0.026381736621260643, 0.019289160147309303, -0.01202423870563507, 0.05233924463391304, -0.033275458961725235, 0.05689970776438713, -0.04019569233059883, 0.019183102995157242, 0.054513417184352875, 0.024618536233901978, -0.03489283099770546, -0.008603893220424652, -0.015418070368468761, -0.04186609387397766, -0.006386633962392807, 0.00337726017460227, -0.023597734048962593, 0.0030740026850253344, 0.028608938679099083, 0.011666296049952507, 0.003542974591255188, -0.007384235039353371, -0.021662190556526184, -0.032798200845718384, 0.013396354392170906, -0.03696094825863838, 0.03393831476569176, -0.007278177887201309, 0.008743093349039555, 0.032904256135225296, -0.04687729850411415, 0.022033391520380974, 0.021953847259283066, 0.006240805611014366, 0.0004449432308319956, -0.0046532610431313515, 0.002172516193240881, -0.0030226311646401882, 0.03218837082386017, 0.054062675684690475, 0.020097846165299416, 0.052763473242521286, 0.0271373949944973, 0.014940813183784485, -0.016491899266839027, -0.05159684643149376, 0.0036357745993882418, 0.02160916104912758, -0.019501274451613426, 0.0100953234359622, -0.04433192312717438, -0.017698301002383232, -0.07477035373449326, 0.021768247708678246, 0.038180604577064514, -0.011401153169572353, 0.00788800697773695, -0.003745146095752716, -0.050721872597932816, 0.0049515473656356335, 0.0007018006290309131, -0.008292349986732006, 0.0030706883408129215, -0.009240237064659595, 0.032904256135225296, -0.013973040506243706, -0.0007154720369726419, 0.006940120365470648, 0.009180579334497452, -0.02868848294019699, -0.02056184597313404, 0.01863955892622471, 0.05626336485147476, -0.005925947800278664, 0.04064643383026123, -0.002182458993047476, 0.006220919545739889, -0.0004768432700075209, -0.041919123381376266, -0.04897192865610123, -0.009492122568190098, -0.019275901839137077, -0.0020614874083548784, -0.01674378663301468, -0.0018609730759635568, 0.046824268996715546, 0.024008706212043762, 0.01022789441049099, 0.02553327940404415, 5.57732637389563e-05, 0.005425490438938141, 0.04759318381547928, -0.00017182514420710504, -0.028423339128494263, -0.018467215821146965, 0.028635453432798386, -0.07036897540092468, -0.027256708592176437, -0.018387673422694206, -3.0035740564926527e-05, 0.006224234122782946, 0.054513417184352875, 0.007523435167968273, 0.0011583438608795404, -0.016465386375784874, 0.023690534755587578, 0.018361158668994904, 0.0016148871509358287, -0.019580816850066185, -0.011056466959416866, 0.03658974543213844, 0.0025437164586037397, 0.027362767606973648, -0.02286859042942524, -0.014503327198326588, 4.419914694153704e-05, 0.03871089220046997, 0.06432371586561203, -0.09619390964508057, -0.005756919272243977, -0.0649600550532341, 0.007914520800113678, -0.00898172240704298, 0.003499888814985752, -0.03918814659118652, -0.013409611769020557, 0.005650862120091915, -0.02658059448003769, -0.0005149575881659985, -0.008471321314573288, 0.001193143893033266, -0.02839682437479496, 0.014079097658395767, -0.04963478446006775, -0.025082536041736603, -0.11592055857181549, 0.021463332697749138, -0.011619895696640015, -0.05188850313425064, 0.01734035834670067, 0.007337835151702166, -0.03611248731613159, 0.008020578883588314, -0.007914520800113678, -0.04661215469241142, 0.018692588433623314, 0.021701961755752563, 0.0021675447933375835, 0.04658564180135727, -0.052206672728061676, -0.001023286604322493, 0.00972412247210741, 0.011938067153096199, 0.004620118532329798, -0.014132126234471798, -0.0283172819763422, -0.00955840852111578, -0.04528643935918808, -0.040142662823200226, -0.004792461171746254, -0.006283891387283802, -0.0045637753792107105, 0.01773807220160961, 0.017459671944379807, 0.012620811350643635, 0.06188439577817917, 0.013840469531714916, 0.0259840227663517, -0.008696692995727062, 0.008418292738497257, -0.018361158668994904, 0.06814177334308624, 0.053956616669893265, -0.017751330509781837, -0.0417335219681263, -0.003695431863889098, -0.0034104029182344675, 0.009909722954034805, 0.028264252468943596, -0.005505033303052187, -0.009850066155195236, 0.057960279285907745, -0.048123471438884735, 0.030968712642788887, 0.01471544150263071, -0.03452163189649582, -0.04067295044660568, 0.04573718085885048, 0.019885731860995293, -0.007715663872659206, -0.03857832029461861, -0.0095186373218894, 0.03099522739648819, 0.029351340606808662, 0.0013704582815989852, -0.06416463106870651, 0.021370531991124153, 0.01072503812611103, 0.03934723511338234, 0.01289921160787344, 0.04046083614230156, 0.0357147753238678, -0.011314981617033482, 0.006549034267663956, 0.03322242945432663, -0.03704049065709114, 0.0037683460395783186, -0.026381736621260643, -0.013800697401165962, -0.026448022574186325, 0.03051796928048134, -0.0057105193845927715, 0.011732582002878189, 0.0031038313172757626, 0.0005178576102480292, 0.007596349343657494, 0.059073880314826965, -0.00950537994503975, -0.005730404984205961, 0.01410561241209507, -0.029298311099410057, 0.032533057034015656, -0.028529396280646324, -0.05244530364871025, -0.01629304327070713, -0.029642997309565544, 0.048123471438884735, 0.010194751434028149, 0.0334080308675766, 0.03491934388875961, -0.01035383716225624, -0.02961648255586624, -0.005137147381901741, -0.01618698611855507, 0.06209651008248329, 0.013416239991784096, 0.023266306146979332, 0.023743564262986183, -0.002472459338605404, -0.03285123035311699, 0.0032811458222568035, -0.01540481299161911, -0.013204125687479973, -0.020429274067282677, -0.005273033399134874, -0.032426998019218445, 0.028980139642953873, 0.009266750887036324, -0.07116440683603287, -0.012998639605939388, -0.006933491677045822, -0.03881694748997688, 0.05159684643149376, -0.012885954231023788, -0.04732804000377655, -0.009346294216811657, 0.01773807220160961, -0.012793154455721378, -0.023451905697584152, -0.00961143709719181, 0.04234335198998451, -0.017061958089470863, 0.006787662860006094, 0.011082980781793594, 0.03255956992506981, 0.00010434830619487911, 0.02349167689681053, 0.006711434572935104, 0.02868848294019699, -0.0006533291307277977, -0.05347936227917671, -0.01852024532854557, -0.004003660753369331, 0.057217877358198166, -0.031419456005096436, -0.03314288705587387, 0.01759224385023117, 0.013038411736488342, -0.00011465367424534634, 0.025109050795435905, 0.04531295225024223, -0.025135565549135208, -0.04064643383026123, -0.006452919915318489, -0.019660359248518944, 0.0048156613484025, -0.017976701259613037, 0.03916163370013237, -0.03953283280134201, -0.04488872364163399, -0.031870197504758835, -0.03788894787430763, -0.07026291638612747, 0.0009619722841307521, -0.03505191579461098, -0.06570246070623398, -0.019130073487758636, -0.0056806905195117, -0.056369420140981674, -0.01678355783224106, 0.023968935012817383, 0.10754203796386719, 0.02951042540371418, 0.02312047779560089, -0.013263783417642117, 0.0018278302159160376, 0.026633623987436295, 0.024817392230033875, 0.06649788469076157, -0.015060127712786198, -0.03338151425123215, 0.023690534755587578, -0.012958868406713009, -0.04427889734506607, -0.041335806250572205, 0.025586308911442757, -0.016120700165629387, 0.01072503812611103, -0.004354975186288357, -0.03786243125796318, 0.006081719417124987, 0.018361158668994904, -0.005816576536744833, 0.015988128259778023, -0.00861052144318819, -0.05411570519208908, 0.020946303382515907, 0.035396602004766464, -0.017207786440849304, -0.03497237339615822, -0.03293077275156975, -0.0005592862144112587, 0.04865375533699989, 0.021914076060056686, -0.04390769451856613, -0.0038014890160411596, 0.005657490808516741, -0.012037496082484722, 0.07726269960403442, -0.017698301002383232, -0.0028784596361219883, -0.02590448036789894, -0.059073880314826965, 0.001348915509879589, -0.026885509490966797, -0.020442532375454903, 0.01922287419438362, -0.0533733032643795, 0.01015498023480177, 0.02198036201298237, 0.03934723511338234, 0.008259207010269165, 0.011129381135106087, -0.03144596889615059, -0.0022354875691235065, -0.011288466863334179, -0.0037816031835973263, -0.006867206189781427, -0.004553832579404116, 0.003546288702636957, 0.017645273357629776, -0.015020355582237244, -0.021701961755752563, 0.0040069748647511005, 0.0027707451954483986, 0.01015498023480177, 0.028370309621095657, -0.01566995680332184, -0.03597991541028023, 0.006612005643546581, 0.02664688043296337, -0.030040711164474487, 0.01934218779206276, -0.02479087933897972, 0.0024012019857764244, 0.0037816031835973263, -0.007132349070161581, 0.05652850493788719, 0.03173762932419777, -0.02776048146188259, -0.03515797480940819, -0.016876356676220894, 0.01013509463518858, 0.0001476929901400581, -0.0468507818877697, -0.011593381874263287, -0.010705152526497841, 0.057111822068691254, -0.022112933918833733, 0.014967327006161213, 0.02033647522330284, 0.04101763665676117, 0.0060021765530109406, -0.041521407663822174, 0.02419430762529373, 0.016571443527936935, -0.009810294024646282, -0.0012204868253320456, 0.014874527230858803, 0.016876356676220894, 0.008093493059277534, 0.01722104288637638, 0.009048007428646088, 0.020773960277438164, -0.012083896435797215, 0.0037584032397717237, 0.01126195304095745, 0.01856001652777195, -0.0018908015917986631, -0.018400929868221283, -0.00039087890763767064, -0.017141500487923622, 0.014582869596779346, 0.02033647522330284, 0.007324577774852514, -0.0051537188701331615, 0.0029696025885641575, 0.016041157767176628, -0.027786996215581894, 0.026567338034510612, 0.03751774877309799, 0.020667903125286102, 0.01074492372572422, -0.0012188296532258391, 0.003355717286467552, 0.02309396304190159, 0.030836140736937523, -0.008869036100804806, 0.014026069082319736, 0.016902871429920197, -0.007172120735049248, 0.014330984093248844, -0.04340392351150513, -0.023664020001888275, -0.04104414954781532, 0.04335089400410652, 0.02060161717236042, 0.0022321734577417374, 0.0016148871509358287, -0.015656698495149612, -0.0015552298864349723, 0.01573624275624752, -0.02107887528836727, 0.013237268663942814, -0.04600232467055321, 0.011109495535492897, -0.020177388563752174, 0.013542183674871922, 0.016452128067612648, -0.014768470078706741, 0.010731666348874569, 0.0013257154496386647, 0.026421507820487022, -0.022815562784671783, 0.029086196795105934, -0.041892606765031815, -0.012892582453787327, 0.002827088115736842, -0.005780119448900223, -0.0190372746437788, 0.059392049908638, -0.023040933534502983, -0.03184368461370468, 0.017008928582072258, 0.0603465661406517, 9.378400864079595e-05, -0.007364349439740181, -0.043563008308410645, -0.006605376955121756, -0.034839801490306854, -0.00010025723167927936, 0.003423660062253475, 0.009512008167803288, 0.02115841768682003, 0.005899433512240648, 0.027521852403879166, -0.020535333082079887, 0.03144596889615059, -0.0044411467388272285, 0.023451905697584152, 0.012276125140488148, 0.0036158887669444084, 0.0039605749770998955, -0.02000504545867443, 0.024896936491131783, 0.0024277165066450834, -0.026262423023581505, 0.040222205221652985, 0.011812124401330948, 0.02996116876602173, -0.004762632772326469, -0.004318518098443747, 0.009730751626193523, -0.04443798214197159, 0.011977839283645153, 0.04252894967794418, -0.0053923474624753, 0.00711909169331193, -0.03226791322231293, -0.0038744034245610237, 0.013416239991784096, -0.004414632450789213, 0.016054414212703705, -0.0018493729876354337, 0.00012200725177535787, -0.029749054461717606, -0.006161262281239033, 0.02847636677324772, 0.030491454526782036, 0.003286117222160101, 0.0020880019292235374, 0.014344241470098495, -0.019368702545762062, -0.008902179077267647, 0.007066063117235899, 0.04446449503302574, -0.01080458052456379, -0.010618980973958969, 0.025122307240962982, -0.018904702737927437, -0.047381069511175156, 0.012594296596944332, -0.0017333729192614555, 0.014967327006161213, 0.0023216591216623783, -0.012673839926719666, -0.013853725977241993, -0.018997501581907272, -0.009657837450504303, 0.019541045650839806, 0.0024210878182202578, 0.033858772367239, 0.008259207010269165, -0.004464346915483475, 0.019726645201444626, -0.018586531281471252, 0.008312235586345196, 0.05371798947453499, 0.015722984448075294, -0.04621443897485733, -0.0002500216360203922, -0.010811209678649902, -0.015988128259778023, 0.015471098944544792, -0.010877495631575584, 0.02204664796590805, -0.04624095559120178, -0.01126195304095745, 0.010963666252791882, 0.01364161167293787, 0.011600010097026825, -0.003705374663695693, -0.001710172975435853, -0.007861492224037647, -0.060929883271455765, -0.02435339242219925, -0.046081867069005966, 0.011679553426802158, 0.01354881189763546, -0.015378299169242382, 0.021224703639745712, 0.008994978852570057, -0.004858747124671936, 0.020243674516677856, -0.023849621415138245, 0.01718127168715, 0.02565259300172329, 0.0112486956641078, 0.045975811779499054, -0.0026398308109492064, -0.024446193128824234, -0.028449853882193565, -0.011195667088031769, 0.005591204855591059, -0.004109717905521393, 0.04592278227210045, 0.007463777903467417, 0.02379659190773964, -0.013204125687479973, 0.013190868310630322, 0.031790655106306076, -0.01814904436469078, -0.03916163370013237, -0.0037584032397717237, 0.04722198471426964, -0.02004481665790081, -0.007662635296583176, -0.008975093252956867, 0.018904702737927437, 0.030464941635727882, 0.006260691210627556, -0.001070515252649784, 0.008146521635353565, -0.04963478446006775, -0.0005953290965408087, -0.008789493702352047, 0.006310405675321817, 0.007523435167968273, 0.02602379396557808, -0.017061958089470863, -0.034468602389097214, 0.023146990686655045, 0.0017764586955308914, -0.010638866573572159, -0.004417946562170982, -0.006711434572935104, -0.023690534755587578, -0.01018812321126461, -0.029722539708018303, -0.00037368605262599885, -0.027362767606973648, -0.006452919915318489, -0.02516207844018936, -0.025374192744493484, -0.010267666541039944, -0.005634290631860495, 0.021781504154205322, 0.01406584121286869, -0.0065258340910077095, 0.04006312042474747, 0.03592688962817192, 0.02097281813621521, -0.010526180267333984, 0.04621443897485733, 0.019063787534832954, -0.03359362855553627, -0.019050531089305878, 0.054513417184352875, -0.0033855459187179804, -0.0023183447774499655, 0.005737033672630787, -0.006154634058475494, -0.011706067249178886, -0.03507843241095543, -0.047009870409965515, -4.4846467062598094e-05, 0.06978566199541092, -0.01250812504440546, -0.01022789441049099, 0.0102080088108778, -0.013933269307017326, -0.01699567213654518, -0.020628131926059723, -0.016240013763308525, -0.0023299448657780886, 0.034760259091854095, 0.036139003932476044, 0.007828349247574806, 0.027309738099575043, -0.020323216915130615, 0.02316024899482727, 0.03552917391061783, -0.030570998787879944, -0.042369864881038666, -0.03452163189649582, -0.025917736813426018, 0.005405604839324951, -0.03507843241095543, -0.015829041600227356, -0.01622675731778145, -0.013707897625863552, -0.017883900552988052, 0.009293265640735626, -0.05255135893821716, 0.0064032054506242275, -0.012083896435797215, -0.01985921710729599, -0.019368702545762062, -0.023173505440354347, 0.01981944590806961, 0.022895105183124542, -0.00047187184100039303, -0.02631545066833496, -0.034283000975847244, -0.006585491355508566, -0.02308070659637451, -0.015722984448075294, -0.004053374752402306, 0.002288516378030181, -0.029642997309565544, 0.04624095559120178, -0.007384235039353371, 0.001973658800125122, 0.02475110813975334, 0.013283669017255306, -0.019792931154370308, 0.006535777356475592, 0.0017284015193581581, -0.002798916772007942, -0.04194563627243042, 0.01684984378516674, 0.034389059990644455, -0.027627909556031227, 0.009624694474041462, -0.006098290905356407, -0.002616630867123604, 0.032798200845718384, -0.021781504154205322, -0.029536940157413483, -0.0031502312049269676, -0.0053923474624753, 0.03635111823678017, -0.03118082694709301, 0.029006654396653175, 0.02101258933544159, -0.021277733147144318, -0.012713611125946045, 0.05886176601052284, 0.03860483318567276, -0.006940120365470648, -0.0014897726941853762, -0.0007946006953716278, 0.00853760726749897, 0.047089412808418274, -0.02408825047314167, 0.004414632450789213, -0.001918973051942885, -0.007974178530275822, -0.0366692878305912, -0.0046400041319429874, -0.017618758603930473, 0.0007171292090788484, -0.015166184864938259, -0.02045578882098198, -0.020999332889914513, 0.03603294491767883, -0.0007154720369726419, -0.007357720751315355, 0.022059904411435127, -0.020813733339309692, 0.051649872213602066, -0.01423818338662386, 0.00835200771689415, 0.01024778001010418, -0.011016695760190487, 0.016544928774237633, -0.0004855432780459523, 0.004620118532329798, -0.042184267193078995, -0.039665404707193375, 0.005213376134634018, 0.013409611769020557, -0.004073260817676783, 0.01878538727760315, -0.012521382421255112, -0.029483910650014877, 0.01889144442975521, 0.004928347188979387, -0.003372288541868329, 0.019792931154370308, -0.0011840296210721135, -0.0054884618148207664, -0.005707204807549715, -0.004769261460751295, -0.021728476509451866, -0.028741510584950447, 0.026792708784341812, 0.005259776022285223, -0.019395217299461365, 0.00677440594881773, -0.0057237762957811356, -0.015683213248848915, 0.0007262434810400009, -0.025917736813426018, -0.011725952848792076, -0.023001162335276604, 0.021595904603600502, -0.05652850493788719, -0.014304469339549541, -0.051358215510845184, 0.028529396280646324, 0.026341965422034264, 0.01535178441554308, 0.0036589745432138443, 0.01456961315125227, -0.01852024532854557, 0.01199109572917223, -0.02316024899482727, -0.01777784340083599, 0.0031750884372740984, -0.013489154167473316, -0.014437041245400906, -0.03051796928048134, 0.021131904795765877, 0.005249833222478628, -0.013893498107790947, -0.027786996215581894, 0.034945860505104065, -0.04446449503302574, 0.030677055940032005, 0.0025172021705657244, 0.02794608101248741, 0.026527566835284233, 0.012223096564412117, 0.015444585122168064, 0.01837441511452198, 0.01926264539361, 0.03600643202662468, 0.02776048146188259, -0.015709728002548218, -0.017499443143606186, 0.0002630716480780393, 0.00420251814648509, 0.0224973913282156, -0.011368010193109512, 0.0013779154978692532, 0.034654200077056885, 0.001894115936011076, 0.011646410450339317, -0.004335089586675167, 0.008603893220424652, 0.001179058221168816, -0.024114763364195824, 0.020296704024076462, 0.02586470916867256, 0.03937374800443649, 0.018255101516842842, -0.04252894967794418, -0.018215330317616463, -0.022245505824685097, -0.007947663776576519, 0.03489283099770546, -0.010532809421420097, -0.0037517747841775417, -0.013906754553318024, -0.030862655490636826, -0.02049556002020836, -0.02530790865421295, -3.298752926639281e-05, 0.014118869788944721, 0.029457397758960724, 0.013986297883093357, 0.010506294667720795, 0.00402686046436429, 0.0021095445845276117, -0.009969379752874374, 0.008663550019264221, 0.01573624275624752, -0.02905968204140663, -0.03788894787430763, -0.012614182196557522, -0.03359362855553627, 0.03542311489582062, -0.0047957757487893105, 0.010930524207651615, 0.0019073730800300837, -0.003509831614792347, -0.0020648017525672913, 0.017419900745153427, 0.029483910650014877, 0.013402983546257019, 0.02219247631728649, -0.024432934820652008, -0.010015780106186867, 0.05088095739483833, -0.004142860881984234, -0.012050753459334373, 0.03730563074350357, -0.009372808039188385, -0.007072691805660725, 0.027627909556031227, 0.01350904069840908, 0.03974494710564613, 0.005886176601052284, 0.045525066554546356, -0.015762757509946823, 0.010413494892418385, -0.005978976842015982, -0.003181717125698924, -0.02802562527358532, -0.02903316728770733, -0.03070356883108616, 0.0029580025002360344, -0.009730751626193523, -0.011659666895866394, 0.025811679661273956, 0.012998639605939388, -0.010890752077102661, 0.01115589588880539, 0.0035297174472361803, 0.01479498390108347, -0.0013008583337068558, -0.07185377925634384, 0.0005307004903443158, -0.00594914797693491, -0.0273892804980278, -0.019885731860995293, 0.011427666991949081, 0.0160013847053051, -0.011752467602491379, 0.04671821370720863, -0.011725952848792076, -0.04666518419981003, -0.046267468482255936, 0.0030276025645434856, 0.005763547960668802, -0.002797259483486414, 0.020389502868056297, 0.00092551507987082, 0.002946402644738555, 0.001283458317629993, -0.030226312577724457, 0.01360184047371149, 0.02557305060327053, 0.025453737005591393, -0.01940847374498844, 0.0204160176217556, -0.012594296596944332, 0.0014549726620316505, 0.01581578515470028, -0.01015498023480177, -0.006270634010434151, -0.003375602886080742, 0.034097399562597275, 0.042741063982248306, 0.01293235458433628, 0.011314981617033482, -0.0019388588843867183, -0.037438202649354935, 0.023465164005756378, -0.0020813732407987118, 0.01401281263679266, 0.004649946931749582, 0.03314288705587387, 0.01859978772699833, -0.027627909556031227, 0.01915658824145794, -0.008120006881654263, 0.03388528525829315, 0.007669263985008001, -0.004706289619207382, 0.005538176279515028, 0.01414538361132145, 0.047009870409965515, -0.014224926941096783, -0.000874972203746438, -0.009737379848957062, 0.017844129353761673, 0.015285499393939972, 0.02757488191127777, 0.001034058048389852, 0.011182409711182117, -0.0292452834546566, 0.0031568598933517933, 0.02579842321574688, -0.008789493702352047, -0.0014375726459547877, 0.006549034267663956, 0.042449407279491425, -0.020402761176228523, -0.00296463118866086, -0.02227201871573925, -0.01304503995925188, 0.011666296049952507, -0.05019158497452736, 0.007092577405273914, -0.007152234669774771, 0.0015030298382043839, -0.01874561607837677, 0.010778066702187061, 0.020203903317451477, -0.01146743819117546, -0.053691476583480835, 0.06225559860467911, 0.010221266187727451, 0.06416463106870651, -0.0014392298180609941, 0.015656698495149612, 0.008239321410655975, 0.005137147381901741, -0.0065589770674705505, -0.002798916772007942, 0.007092577405273914, -0.044146325439214706, 0.022431105375289917, -0.020535333082079887, -0.0343625433743, 0.015802528709173203, -0.0024045163299888372, 0.006718062795698643, -0.013469268567860126, -0.045153867453336716, 0.023253049701452255, -0.028608938679099083, -0.027031337842345238, -0.004378175362944603, -0.0032629170455038548, 0.010433380492031574, -0.02241784892976284, -0.013866983354091644, -0.011003438383340836, 0.0009197150939144194, 0.024181049317121506, 0.0027707451954483986, 0.006492691580206156, -0.025705622509121895, 0.019289160147309303, 0.03826014697551727, -0.015444585122168064, -0.005239890422672033, -0.010579208843410015, 0.003246345790103078, -0.022205732762813568, -0.003831317648291588, -0.0003492431715130806, -0.02305419184267521, 0.021622419357299805, 0.0018792016198858619, -0.011593381874263287, -0.029934654012322426, -0.004825604148209095, 0.006608691532164812, 0.0007076006149873137, 0.010970295406877995, 0.02045578882098198, -0.0057237762957811356, -0.021503103896975517, 0.003857831936329603, -0.001023286604322493, -0.024300364777445793, -0.006691548507660627, 0.02435339242219925, 0.0051205758936703205, -0.0072715491987764835, -0.04536598175764084, 0.019885731860995293, -0.01115589588880539, 0.0006993148708716035, -0.010731666348874569, -0.013310182839632034, 0.018493730574846268, 0.007410749327391386, 0.008146521635353565, -0.012839553877711296, 0.03619202971458435, 0.013018525205552578, -0.006834063213318586, 0.02850288152694702, -0.0009296579519286752, 0.016279784962534904, -0.0022040018811821938, -0.017578987404704094, -0.029457397758960724, 0.03770334646105766, 0.01425144076347351, 0.02791956625878811, 0.025705622509121895, -0.006161262281239033, -0.021092133596539497, -0.013774183578789234, 0.02583819441497326, 0.00023490020248573273, -0.0011658009607344866, -0.009929608553647995, 0.010101951658725739, 0.002842002548277378, 0.017327100038528442, -0.0009313151240348816, 0.026182880625128746, -0.02884756773710251, 0.027256708592176437, 0.03173762932419777, -0.0024227448739111423, -0.008736465126276016, -0.0075035495683550835, -0.02876802533864975, 0.0003881860466208309, 0.015444585122168064, -0.015842299908399582, 0.009956123307347298, 0.029855111613869667, -0.007278177887201309, 0.017313843593001366, 0.0040069748647511005, -0.0343625433743, 0.00542880455031991, -0.0035297174472361803, 0.026143109425902367, 0.0042953179217875, 0.01193143893033266, 0.037995003163814545, 0.0040832036174833775, -0.0036390889436006546, 0.004812347237020731, -0.024247335270047188, -0.0077952067367732525, 0.0031253742054104805, -0.008743093349039555, 0.010930524207651615, 0.013131211511790752, 0.012110410258173943, -0.0014127155300229788, 0.02546699345111847, -0.005249833222478628, 0.01364161167293787, 0.008239321410655975, -0.0095186373218894, 0.009207094088196754, 0.007152234669774771, 0.032241400331258774, -0.00514046149328351, 0.013230640441179276, -0.013489154167473316, -0.02219247631728649, 0.016266528517007828, -0.017804358154535294, -0.00914743635803461, 0.014781727455556393, 0.008272464387118816, 0.0007966721314005554, 0.011454181745648384, -0.005607776343822479, 0.0031220598611980677, 0.0039605749770998955, 0.01684984378516674, -0.005809947848320007, 0.036059461534023285, 0.036324601620435715, -0.04099112004041672, 0.013959783129394054, -0.011122752912342548, -0.008723207749426365, -0.017578987404704094, -0.0057105193845927715, 0.0005410576122812927, -0.029934654012322426, 0.022391334176063538, -0.018878187984228134, 0.009710866026580334, -0.02701808139681816, 0.03282471373677254, 0.01866607367992401, -0.00018622158677317202, -0.003957260400056839, -0.0075830924324691296, -0.022033391520380974, 0.02579842321574688, -0.008020578883588314, -0.008060350082814693, -0.04844164103269577, 0.007702406495809555, 0.03306334465742111, -0.0190107598900795, 0.009392693638801575, 0.0020946303848177195, 0.003871089080348611, -0.03582083061337471, 0.01919635944068432, 0.03213534131646156, -0.02940436825156212, -0.004845489747822285, -0.022364819422364235, 0.012859439477324486, 0.03955934941768646, -0.05273696035146713, -0.010877495631575584, 0.030279340222477913, -0.017764586955308914, -0.02754836715757847, 0.011692809872329235, -0.023067448288202286, 0.0014110583579167724, -0.02998768351972103, -0.002313373377546668, -0.008782864548265934, 0.013336697593331337, 0.024379907175898552, 0.004586975555866957, -0.011215552687644958, -0.019236130639910698, -0.013217383064329624, -0.009737379848957062, 0.02293487638235092, 0.0024890308268368244, 0.014556355774402618, -0.02082698978483677, 0.022152705118060112, 0.008252578787505627, -0.019090302288532257, -0.012693725526332855, 0.03709351643919945, 0.016505157575011253, -0.03916163370013237, 0.03510494530200958, 0.00535589037463069, -0.004328460898250341, -0.01897098869085312, 0.0013638297095894814, -0.017618758603930473, 0.01596161350607872, -0.015033612959086895, -0.0017234301194548607, -0.0011475724168121815, 0.04099112004041672, -0.026554079726338387, 0.0044080037623643875, 0.008113378658890724, -0.011851895600557327, 0.023955678567290306, 0.018838416785001755, -0.02839682437479496, -0.004520689602941275, 0.010062180459499359, 0.011699439026415348, 0.010287552140653133, -0.011175781488418579, -0.04091157764196396, -0.007298063486814499, -0.04878632724285126, 0.0107846949249506, -0.009379437193274498, -0.04231683537364006, 0.006383319851011038, 0.03269214183092117, 0.00855749286711216, -0.029192253947257996, -0.014940813183784485, -0.013827212154865265, -0.011997724883258343, 0.019421732053160667, -0.02940436825156212, 0.010466523468494415, -0.043297864496707916, 0.022404590621590614, -0.0021360591053962708, -0.00037803605664521456, 0.007304692175239325, 0.0007792721153236926, 0.017247557640075684, -0.009478865191340446, 0.00646949140354991, 0.014344241470098495, -0.022736020386219025, -0.020402761176228523, -0.01406584121286869, 0.017989957705140114, 0.0024012019857764244, -0.007662635296583176, 0.02646128088235855, -0.0007341149030253291, 0.01940847374498844, 0.06352828443050385, -0.007152234669774771, 0.015590413473546505, 0.06299799680709839, -0.007974178530275822, -0.03566174581646919, 0.032798200845718384, 0.0018278302159160376, 0.013243896886706352, 0.024737849831581116, 0.0012668868293985724, 0.002025030320510268, -0.018573272973299026, 0.00907452218234539, -0.04944918677210808, -0.004152803681790829, 0.00839177891612053, -0.020720932632684708, 0.010174865834414959, 0.00953852292150259, 0.009956123307347298, 0.0039738318882882595, 0.007370977662503719, -0.005498404614627361, 0.013946526683866978, -0.023226534947752953, 0.016902871429920197, 0.00017037514771800488, 0.02278904803097248, -0.00012894654355477542, -0.01919635944068432, 0.03879043459892273, 0.0007585578132420778, 0.008994978852570057, 0.006118176970630884, 0.0492105558514595, -0.004341718275099993, -0.002827088115736842, -0.012614182196557522, 0.020256932824850082, 0.031207341700792313, 0.019607331603765488, 0.02575865015387535, -0.016213499009609222, 0.02445944957435131, 0.030305854976177216, 0.08325493335723877, 0.006482748314738274, -0.008438178338110447, -0.0478052981197834, -0.0022139446809887886, -0.025745393708348274, -0.03629808872938156, -0.009989266283810139, -0.010340580716729164, -0.025413965806365013, -0.022709505632519722, -0.017472930252552032, 0.001334001193754375, 0.0010034008882939816, -0.01643887162208557, 0.02074744738638401, 0.0005091576022095978, -0.004345032386481762, -0.0055680046789348125, 0.020654646679759026, -0.0023398876655846834, 0.005776804871857166, -0.025520022958517075, 0.032718658447265625, 0.0283172819763422, -0.017327100038528442, -0.002303430577740073, -0.0003390931524336338, -0.015444585122168064, -0.004209146369248629, -0.006075091194361448, 0.009889837354421616, 0.008915436454117298, 0.009982637129724026, -0.04104414954781532, 0.003181717125698924, 0.05300210416316986, -0.008080235682427883, 0.024578765034675598, -0.005481833126395941, -0.006641834508627653, 0.011540353298187256, -0.035317059606313705, 0.014861269854009151, -0.0180827584117651, 0.02940436825156212, -0.014768470078706741, -0.00911429338157177, 0.01239543966948986, -0.01975315995514393, -0.0006069291266612709, 0.02142356149852276, 0.02866196818649769, 0.037729863077402115, -0.0008708293316885829, 0.016133956611156464, 0.030464941635727882, 0.03518448770046234, 0.02204664796590805, -0.013681383803486824, -0.006085033994168043, 0.001579258474521339, -0.021808018907904625, -0.0004814004059880972, -0.003173431381583214]\n"
          ]
        }
      ]
    },
    {
      "cell_type": "code",
      "source": [
        "# 使用运维知识库进行检索生成\n",
        "retriever = vectorstore.as_retriever()\n",
        "# 使用 LangChain 提供的 RAG Prompt，来源于：https://smith.langchain.com/hub/rlm/rag-prompt?organizationId=989ad331-949f-4bac-9694-660074a208a7\n",
        "\"\"\"\n",
        "这是 RAG Prompt 原文：\n",
        "\n",
        "human\n",
        "\n",
        "You are an assistant for question-answering tasks. Use the following pieces of retrieved context to answer the question. If you don't know the answer, just say that you don't know. Use three sentences maximum and keep the answer concise.\n",
        "\n",
        "Question: {question}\n",
        "\n",
        "Context: {context}\n",
        "\n",
        "Answer:\n",
        "\"\"\"\n",
        "prompt = langchain_hub.pull(\"rlm/rag-prompt\")\n",
        "\n",
        "print(prompt)\n",
        "\n",
        "def format_docs(docs):\n",
        "    print(\"匹配到的运维知识库片段：\\n\", \"\\n\\n\".join(doc.page_content for doc in docs))\n",
        "    return \"\\n\\n\".join(doc.page_content for doc in docs)\n",
        "\n",
        "llm = ChatOpenAI(model=\"gpt-4o-mini\",\n",
        "    api_key=\"sk-T6SlqfUnyFytejvA3c1584F87d6343878232185e26243b1d\",\n",
        "    base_url=\"https://api.apiyi.com/v1\"\n",
        "    )\n",
        "rag_chain = (\n",
        "    {\"context\": retriever | format_docs, \"question\": RunnablePassthrough()}\n",
        "    | prompt\n",
        "    | llm\n",
        "    | StrOutputParser()\n",
        ")\n",
        "\n",
        "# 问题将会被 Embedding 转成向量，然后再从向量数据库检索\n",
        "res = rag_chain.invoke(\"payment 服务是谁维护的？\")\n",
        "# RAG 无法回答的问题\n",
        "# res = rag_chain.invoke(\"谁负责的服务最多？\")\n",
        "print(\"\\n\\nLLM 回答：\", res)"
      ],
      "metadata": {
        "colab": {
          "base_uri": "https://localhost:8080/"
        },
        "id": "DJMMmZw2zknS",
        "outputId": "04defb57-4eba-401b-d2c2-73c11903a405"
      },
      "execution_count": 21,
      "outputs": [
        {
          "output_type": "stream",
          "name": "stderr",
          "text": [
            "/usr/local/lib/python3.10/dist-packages/langsmith/client.py:323: LangSmithMissingAPIKeyWarning: API key must be provided when using hosted LangSmith API\n",
            "  warnings.warn(\n"
          ]
        },
        {
          "output_type": "stream",
          "name": "stdout",
          "text": [
            "input_variables=['context', 'question'] input_types={} partial_variables={} metadata={'lc_hub_owner': 'rlm', 'lc_hub_repo': 'rag-prompt', 'lc_hub_commit_hash': '50442af133e61576e74536c6556cefe1fac147cad032f4377b60c436e6cdcb6e'} messages=[HumanMessagePromptTemplate(prompt=PromptTemplate(input_variables=['context', 'question'], input_types={}, partial_variables={}, template=\"You are an assistant for question-answering tasks. Use the following pieces of retrieved context to answer the question. If you don't know the answer, just say that you don't know. Use three sentences maximum and keep the answer concise.\\nQuestion: {question} \\nContext: {context} \\nAnswer:\"), additional_kwargs={})]\n",
            "匹配到的运维知识库片段：\n",
            " - **payment**: 小张，联系方式：18888888888\n",
            "- **payment_gateway**: 小王，联系方式：18888888889\n",
            "- **payment_callback**: 小李，联系方式：18888888890\n",
            "\n",
            "- **问题描述**: 用户发起支付后，交易未能成功完成。\n",
            "- **可能原因**:\n",
            "- 网络延迟或中断\n",
            "- 支付网关服务异常\n",
            "- **解决办法**:\n",
            "- 检查网络连接，确保支付服务的网络畅通。\n",
            "- 检查支付网关服务状态，重启服务或联系服务提供商。\n",
            "\n",
            "- **问题描述**: 支付系统完全无法访问或服务中断。\n",
            "- **可能原因**:\n",
            "- 主机硬件故障\n",
            "- 系统软件崩溃\n",
            "- 网络设备故障\n",
            "- **解决办法**:\n",
            "- 快速切换到备用服务器。\n",
            "- 检查系统日志，定位问题原因。\n",
            "- 联系硬件供应商，进行故障排查和修复。\n",
            "\n",
            "- **访问控制**: 严格控制系统访问权限，实行最小权限原则。\n",
            "- **数据加密**: 对敏感数据进行加密处理，保护用户隐私。\n",
            "- **安全审计**: 定期进行安全审计，检查潜在的安全风险。\n",
            "\n",
            "\n",
            "LLM 回答： 支付服务由小张维护，联系方式是18888888888。\n"
          ]
        }
      ]
    },
    {
      "cell_type": "code",
      "source": [
        "res = rag_chain.invoke(\"谁负责的服务最多？\")\n",
        "print(\"\\n\\nLLM 回答：\", res)"
      ],
      "metadata": {
        "colab": {
          "base_uri": "https://localhost:8080/"
        },
        "id": "mvSHT08T3lgg",
        "outputId": "d305f4f3-f4af-4763-afc4-e9f39ff09ba9"
      },
      "execution_count": 24,
      "outputs": [
        {
          "output_type": "stream",
          "name": "stdout",
          "text": [
            "匹配到的运维知识库片段：\n",
            " - **交易量**: 监控每秒交易数，确保系统承载能力。\n",
            "- **响应时间**: 监控交易的平均响应时间，确保服务性能。\n",
            "- **系统负载**: 监控CPU、内存等资源使用率，避免资源瓶颈。\n",
            "\n",
            "- **问题描述**: 用户支付请求处理时间超过正常范围。\n",
            "- **可能原因**:\n",
            "- 系统资源不足\n",
            "- 数据库查询效率低下\n",
            "- 外部服务响应慢\n",
            "- **解决办法**:\n",
            "- 增加系统资源，如CPU、内存。\n",
            "- 优化数据库查询，使用索引，减少复杂查询。\n",
            "- 与外部服务提供商沟通，优化接口性能。\n",
            "\n",
            "- **问题描述**: 支付系统完全无法访问或服务中断。\n",
            "- **可能原因**:\n",
            "- 主机硬件故障\n",
            "- 系统软件崩溃\n",
            "- 网络设备故障\n",
            "- **解决办法**:\n",
            "- 快速切换到备用服务器。\n",
            "- 检查系统日志，定位问题原因。\n",
            "- 联系硬件供应商，进行故障排查和修复。\n",
            "\n",
            "- **发现问题**: 监控系统发现异常指标。\n",
            "- **快速响应**: 立即通知运维团队，进行初步诊断。\n",
            "- **问题定位**: 通过日志分析，定位问题原因。\n",
            "- **解决方案**: 根据问题类型，执行相应的解决方案。\n",
            "- **问题解决**: 确认问题解决，恢复正常服务。\n",
            "- **后续跟进**: 记录问题处理过程，进行事后分析和总结。\n",
            "\n",
            "\n",
            "LLM 回答： 根据提供的上下文，负责服务最多的可能是运维团队，因为他们需要监控系统、处理异常指标并快速响应问题。\n"
          ]
        }
      ]
    },
    {
      "cell_type": "markdown",
      "source": [
        "rag缺点：\n",
        "  * 文本分片会把上下文逻辑截断，导致无法回答内在逻辑关联问题\n",
        "  * 只能回答显式的检索问题，无法回答全局性或者总结性的问题"
      ],
      "metadata": {
        "id": "nCONiPKa31uq"
      }
    }
  ]
}