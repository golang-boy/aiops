{
 "cells": [
  {
   "cell_type": "code",
   "execution_count": 15,
   "metadata": {},
   "outputs": [
    {
     "name": "stdout",
     "output_type": "stream",
     "text": [
      "\u001b[31mERROR: Ignored the following yanked versions: 0.0.8\u001b[0m\u001b[31m\n",
      "\u001b[0m\u001b[31mERROR: Ignored the following versions that require a different python version: 0.0.10 Requires-Python >=3.9.0,<4.0; 0.0.11 Requires-Python >=3.9.0,<4.0; 0.0.12 Requires-Python >=3.9.0,<4.0; 0.0.13 Requires-Python >=3.9.0,<4.0; 0.0.14 Requires-Python >=3.9.0,<4.0; 0.0.15 Requires-Python >=3.9.0,<4.0; 0.0.16 Requires-Python >=3.9.0,<4.0; 0.0.17 Requires-Python >=3.9.0,<4.0; 0.0.18 Requires-Python >=3.9.0,<4.0; 0.0.19 Requires-Python >=3.9.0,<4.0; 0.0.20 Requires-Python >=3.9.0,<4.0; 0.0.21 Requires-Python >=3.9.0,<4.0; 0.0.22 Requires-Python >=3.9.0,<4.0; 0.0.23 Requires-Python >=3.9.0,<4.0; 0.0.24 Requires-Python >=3.9.0,<4.0; 0.0.25 Requires-Python >=3.9.0,<4.0; 0.0.26 Requires-Python >=3.9.0,<4.0; 0.0.27 Requires-Python >=3.9.0,<4.0; 0.0.28 Requires-Python >=3.9.0,<4.0; 0.0.29 Requires-Python <4.0,>=3.9.0; 0.0.30 Requires-Python <4.0,>=3.9.0; 0.0.31 Requires-Python <4.0,>=3.9.0; 0.0.32 Requires-Python <4.0,>=3.9.0; 0.0.33 Requires-Python <4.0,>=3.9.0; 0.0.34 Requires-Python <4.0,>=3.9.0; 0.0.35 Requires-Python <4.0,>=3.9.0; 0.0.36 Requires-Python <4.0,>=3.9.0; 0.0.37 Requires-Python <4.0,>=3.9.0; 0.0.38 Requires-Python <4.0,>=3.9.0; 0.0.39 Requires-Python <4.0,>=3.9.0; 0.0.40 Requires-Python <4.0,>=3.9.0; 0.0.41 Requires-Python <4.0,>=3.9.0; 0.0.42 Requires-Python <4.0,>=3.9.0; 0.0.43 Requires-Python <4.0,>=3.9.0; 0.0.44 Requires-Python <4.0,>=3.9.0; 0.0.45 Requires-Python <4.0,>=3.9.0; 0.0.46 Requires-Python <4.0,>=3.9.0; 0.0.47 Requires-Python <4.0,>=3.9.0; 0.0.48 Requires-Python <4.0,>=3.9.0; 0.0.49 Requires-Python <4.0,>=3.9.0; 0.0.50 Requires-Python <4.0,>=3.9.0; 0.0.51 Requires-Python <4.0,>=3.9.0; 0.0.52 Requires-Python <4.0,>=3.9.0; 0.0.53 Requires-Python <4.0,>=3.9.0; 0.0.54 Requires-Python <4.0,>=3.9.0; 0.0.55 Requires-Python <4.0,>=3.9.0; 0.0.56 Requires-Python <4.0,>=3.9.0; 0.0.57 Requires-Python <4.0,>=3.9.0; 0.0.58 Requires-Python <4.0,>=3.9.0; 0.0.59 Requires-Python <4.0,>=3.9.0; 0.0.60 Requires-Python <4.0,>=3.9.0; 0.0.61 Requires-Python <4.0,>=3.9.0; 0.0.62 Requires-Python <4.0,>=3.9.0; 0.0.63 Requires-Python <4.0,>=3.9.0; 0.0.64 Requires-Python <4.0,>=3.9.0; 0.0.65 Requires-Python <4.0,>=3.9.0; 0.0.66 Requires-Python <4.0,>=3.9.0; 0.0.67 Requires-Python <4.0,>=3.9.0; 0.0.68 Requires-Python <4.0,>=3.9.0; 0.0.69 Requires-Python <4.0,>=3.9.0; 0.0.9 Requires-Python >=3.9.0,<4.0; 0.1.1 Requires-Python <4.0,>=3.9.0; 0.1.10 Requires-Python <4.0,>=3.9.0; 0.1.11 Requires-Python <4.0,>=3.9.0; 0.1.12 Requires-Python <4.0,>=3.9.0; 0.1.13 Requires-Python <4.0,>=3.9.0; 0.1.14 Requires-Python <4.0,>=3.9.0; 0.1.15 Requires-Python <4.0,>=3.9.0; 0.1.16 Requires-Python <4.0,>=3.9.0; 0.1.17 Requires-Python <4.0,>=3.9.0; 0.1.18 Requires-Python <4.0,>=3.9.0; 0.1.19 Requires-Python <4.0,>=3.9.0; 0.1.2 Requires-Python <4.0,>=3.9.0; 0.1.3 Requires-Python <4.0,>=3.9.0; 0.1.4 Requires-Python <4.0,>=3.9.0; 0.1.5 Requires-Python <4.0,>=3.9.0; 0.1.6 Requires-Python <4.0,>=3.9.0; 0.1.7 Requires-Python <4.0,>=3.9.0; 0.1.8 Requires-Python <4.0,>=3.9.0; 0.1.9 Requires-Python <4.0,>=3.9.0; 0.2.0 Requires-Python <4.0,>=3.9.0; 0.2.1 Requires-Python <4.0,>=3.9.0; 0.2.10 Requires-Python <4.0,>=3.9.0; 0.2.11 Requires-Python <4.0,>=3.9.0; 0.2.12 Requires-Python <4.0,>=3.9.0; 0.2.13 Requires-Python <4.0,>=3.9.0; 0.2.14 Requires-Python <4.0,>=3.9.0; 0.2.15 Requires-Python <4.0,>=3.9.0; 0.2.16 Requires-Python <4.0,>=3.9.0; 0.2.17 Requires-Python <4.0,>=3.9.0; 0.2.18 Requires-Python <4.0,>=3.9.0; 0.2.19 Requires-Python <4.0,>=3.9.0; 0.2.2 Requires-Python <4.0,>=3.9.0; 0.2.20 Requires-Python <4.0,>=3.9.0; 0.2.21 Requires-Python <4.0,>=3.9.0; 0.2.22 Requires-Python <4.0,>=3.9.0; 0.2.23 Requires-Python <4.0,>=3.9.0; 0.2.24 Requires-Python <4.0,>=3.9.0; 0.2.25 Requires-Python <4.0,>=3.9.0; 0.2.26 Requires-Python <4.0,>=3.9.0; 0.2.27 Requires-Python <4.0,>=3.9.0; 0.2.28 Requires-Python <4.0,>=3.9.0; 0.2.29 Requires-Python <4.0,>=3.9.0; 0.2.3 Requires-Python <4.0,>=3.9.0; 0.2.30 Requires-Python <4.0,>=3.9.0; 0.2.31 Requires-Python <4.0,>=3.9.0; 0.2.32 Requires-Python <4.0,>=3.9.0; 0.2.33 Requires-Python <4.0,>=3.9.0; 0.2.34 Requires-Python <4.0,>=3.9.0; 0.2.35 Requires-Python <4.0,>=3.9.0; 0.2.36 Requires-Python <4.0,>=3.9.0; 0.2.37 Requires-Python <4.0,>=3.9.0; 0.2.38 Requires-Python <4.0,>=3.9.0; 0.2.39 Requires-Python <4.0,>=3.9.0; 0.2.4 Requires-Python <4.0,>=3.9.0; 0.2.40 Requires-Python <4.0,>=3.9.0; 0.2.41 Requires-Python <4.0,>=3.9.0; 0.2.42 Requires-Python <4.0,>=3.9.0; 0.2.43 Requires-Python <4.0,>=3.9.0; 0.2.44 Requires-Python <4.0,>=3.9.0; 0.2.45 Requires-Python <4.0,>=3.9.0; 0.2.46 Requires-Python <4.0,>=3.9.0; 0.2.47 Requires-Python <4.0,>=3.9.0; 0.2.48 Requires-Python <4.0,>=3.9.0; 0.2.49 Requires-Python <4.0,>=3.9.0; 0.2.5 Requires-Python <4.0,>=3.9.0; 0.2.50 Requires-Python <4.0,>=3.9.0; 0.2.51 Requires-Python <4.0,>=3.9.0; 0.2.52 Requires-Python <4.0,>=3.9.0; 0.2.53 Requires-Python <4.0,>=3.9.0; 0.2.54 Requires-Python <4.0,>=3.9.0; 0.2.55 Requires-Python <4.0,>=3.9.0; 0.2.56 Requires-Python <4.0,>=3.9.0; 0.2.57 Requires-Python <4.0,>=3.9.0; 0.2.58 Requires-Python <4.0,>=3.9.0; 0.2.59 Requires-Python <4.0,>=3.9.0; 0.2.5a0 Requires-Python <4.0,>=3.9.0; 0.2.6 Requires-Python <4.0,>=3.9.0; 0.2.60 Requires-Python <4.0,>=3.9.0; 0.2.7 Requires-Python <4.0,>=3.9.0; 0.2.7a0 Requires-Python <4.0,>=3.9.0; 0.2.8 Requires-Python <4.0,>=3.9.0; 0.2.9 Requires-Python <4.0,>=3.9.0\u001b[0m\u001b[31m\n",
      "\u001b[0m\u001b[31mERROR: Could not find a version that satisfies the requirement langgraph (from versions: none)\u001b[0m\u001b[31m\n",
      "\u001b[0m\u001b[31mERROR: No matching distribution found for langgraph\u001b[0m\u001b[31m\n",
      "\u001b[0m"
     ]
    }
   ],
   "source": [
    "\n",
    "!pip install -U langgraph langchain langchain_openai langchain_experimental langsmith pandas kubernetes openai"
   ]
  },
  {
   "cell_type": "code",
   "execution_count": 6,
   "metadata": {},
   "outputs": [],
   "source": [
    "import os\n",
    "import getpass"
   ]
  },
  {
   "cell_type": "code",
   "execution_count": 8,
   "metadata": {},
   "outputs": [
    {
     "name": "stdin",
     "output_type": "stream",
     "text": [
      "Please provide your OPENAI_API_KEY ········\n",
      "Please provide your TAVILY_API_KEY ········\n"
     ]
    }
   ],
   "source": [
    "\n",
    "# 定义函数，设置未定义的环境变量\n",
    "def _set_if_undefined(var: str):\n",
    "    if not os.environ.get(var):\n",
    "        os.environ[var] = getpass.getpass(f\"Please provide your {var}\")\n",
    "\n",
    "# 设置 OPENAI API 密钥\n",
    "_set_if_undefined(\"OPENAI_API_KEY\")\n",
    "_set_if_undefined(\"TAVILY_API_KEY\")"
   ]
  },
  {
   "cell_type": "code",
   "execution_count": 13,
   "metadata": {},
   "outputs": [
    {
     "ename": "ModuleNotFoundError",
     "evalue": "No module named 'langchain_core'",
     "output_type": "error",
     "traceback": [
      "\u001b[0;31m---------------------------------------------------------------------------\u001b[0m",
      "\u001b[0;31mModuleNotFoundError\u001b[0m                       Traceback (most recent call last)",
      "Cell \u001b[0;32mIn[13], line 2\u001b[0m\n\u001b[1;32m      1\u001b[0m \u001b[38;5;66;03m# 定义消息 Agent 的节点\u001b[39;00m\n\u001b[0;32m----> 2\u001b[0m \u001b[38;5;28;01mfrom\u001b[39;00m \u001b[38;5;21;01mlangchain_core\u001b[39;00m\u001b[38;5;21;01m.\u001b[39;00m\u001b[38;5;21;01mmessages\u001b[39;00m \u001b[38;5;28;01mimport\u001b[39;00m HumanMessage\n",
      "\u001b[0;31mModuleNotFoundError\u001b[0m: No module named 'langchain_core'"
     ]
    }
   ],
   "source": [
    "# 定义消息 Agent 的节点\n",
    "from langchain_core.messages import HumanMessage"
   ]
  },
  {
   "cell_type": "code",
   "execution_count": null,
   "metadata": {},
   "outputs": [],
   "source": []
  }
 ],
 "metadata": {
  "kernelspec": {
   "display_name": "Python 3 (ipykernel)",
   "language": "python",
   "name": "python3"
  },
  "language_info": {
   "codemirror_mode": {
    "name": "ipython",
    "version": 3
   },
   "file_extension": ".py",
   "mimetype": "text/x-python",
   "name": "python",
   "nbconvert_exporter": "python",
   "pygments_lexer": "ipython3",
   "version": "3.8.18"
  }
 },
 "nbformat": 4,
 "nbformat_minor": 4
}
