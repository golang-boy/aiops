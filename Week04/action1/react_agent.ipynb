{
  "cells": [
    {
      "cell_type": "markdown",
      "metadata": {
        "id": "lHqqC_BPWUJA"
      },
      "source": [
        "## react agent"
      ]
    },
    {
      "cell_type": "code",
      "execution_count": 2,
      "metadata": {
        "colab": {
          "base_uri": "https://localhost:8080/"
        },
        "id": "LGmXv2yaWHl4",
        "outputId": "060907c5-35ea-49b1-b22b-a23c1bd12f30"
      },
      "outputs": [
        {
          "name": "stdout",
          "output_type": "stream",
          "text": [
            "Requirement already satisfied: langgraph in /usr/local/lib/python3.10/dist-packages (0.2.28)\n",
            "Requirement already satisfied: langsmith in /usr/local/lib/python3.10/dist-packages (0.1.129)\n",
            "Requirement already satisfied: langchain-openai in /usr/local/lib/python3.10/dist-packages (0.2.1)\n",
            "Requirement already satisfied: langchain-core<0.4,>=0.2.39 in /usr/local/lib/python3.10/dist-packages (from langgraph) (0.3.6)\n",
            "Requirement already satisfied: langgraph-checkpoint<2.0.0,>=1.0.2 in /usr/local/lib/python3.10/dist-packages (from langgraph) (1.0.12)\n",
            "Requirement already satisfied: httpx<1,>=0.23.0 in /usr/local/lib/python3.10/dist-packages (from langsmith) (0.27.2)\n",
            "Requirement already satisfied: orjson<4.0.0,>=3.9.14 in /usr/local/lib/python3.10/dist-packages (from langsmith) (3.10.7)\n",
            "Requirement already satisfied: pydantic<3,>=1 in /usr/local/lib/python3.10/dist-packages (from langsmith) (2.9.2)\n",
            "Requirement already satisfied: requests<3,>=2 in /usr/local/lib/python3.10/dist-packages (from langsmith) (2.32.3)\n",
            "Requirement already satisfied: openai<2.0.0,>=1.40.0 in /usr/local/lib/python3.10/dist-packages (from langchain-openai) (1.50.2)\n",
            "Requirement already satisfied: tiktoken<1,>=0.7 in /usr/local/lib/python3.10/dist-packages (from langchain-openai) (0.7.0)\n",
            "Requirement already satisfied: anyio in /usr/local/lib/python3.10/dist-packages (from httpx<1,>=0.23.0->langsmith) (3.7.1)\n",
            "Requirement already satisfied: certifi in /usr/local/lib/python3.10/dist-packages (from httpx<1,>=0.23.0->langsmith) (2024.8.30)\n",
            "Requirement already satisfied: httpcore==1.* in /usr/local/lib/python3.10/dist-packages (from httpx<1,>=0.23.0->langsmith) (1.0.5)\n",
            "Requirement already satisfied: idna in /usr/local/lib/python3.10/dist-packages (from httpx<1,>=0.23.0->langsmith) (3.10)\n",
            "Requirement already satisfied: sniffio in /usr/local/lib/python3.10/dist-packages (from httpx<1,>=0.23.0->langsmith) (1.3.1)\n",
            "Requirement already satisfied: h11<0.15,>=0.13 in /usr/local/lib/python3.10/dist-packages (from httpcore==1.*->httpx<1,>=0.23.0->langsmith) (0.14.0)\n",
            "Requirement already satisfied: PyYAML>=5.3 in /usr/local/lib/python3.10/dist-packages (from langchain-core<0.4,>=0.2.39->langgraph) (6.0.2)\n",
            "Requirement already satisfied: jsonpatch<2.0,>=1.33 in /usr/local/lib/python3.10/dist-packages (from langchain-core<0.4,>=0.2.39->langgraph) (1.33)\n",
            "Requirement already satisfied: packaging<25,>=23.2 in /usr/local/lib/python3.10/dist-packages (from langchain-core<0.4,>=0.2.39->langgraph) (24.1)\n",
            "Requirement already satisfied: tenacity!=8.4.0,<9.0.0,>=8.1.0 in /usr/local/lib/python3.10/dist-packages (from langchain-core<0.4,>=0.2.39->langgraph) (8.5.0)\n",
            "Requirement already satisfied: typing-extensions>=4.7 in /usr/local/lib/python3.10/dist-packages (from langchain-core<0.4,>=0.2.39->langgraph) (4.12.2)\n",
            "Requirement already satisfied: msgpack<2.0.0,>=1.1.0 in /usr/local/lib/python3.10/dist-packages (from langgraph-checkpoint<2.0.0,>=1.0.2->langgraph) (1.1.0)\n",
            "Requirement already satisfied: distro<2,>=1.7.0 in /usr/lib/python3/dist-packages (from openai<2.0.0,>=1.40.0->langchain-openai) (1.7.0)\n",
            "Requirement already satisfied: jiter<1,>=0.4.0 in /usr/local/lib/python3.10/dist-packages (from openai<2.0.0,>=1.40.0->langchain-openai) (0.5.0)\n",
            "Requirement already satisfied: tqdm>4 in /usr/local/lib/python3.10/dist-packages (from openai<2.0.0,>=1.40.0->langchain-openai) (4.66.5)\n",
            "Requirement already satisfied: annotated-types>=0.6.0 in /usr/local/lib/python3.10/dist-packages (from pydantic<3,>=1->langsmith) (0.7.0)\n",
            "Requirement already satisfied: pydantic-core==2.23.4 in /usr/local/lib/python3.10/dist-packages (from pydantic<3,>=1->langsmith) (2.23.4)\n",
            "Requirement already satisfied: charset-normalizer<4,>=2 in /usr/local/lib/python3.10/dist-packages (from requests<3,>=2->langsmith) (3.3.2)\n",
            "Requirement already satisfied: urllib3<3,>=1.21.1 in /usr/local/lib/python3.10/dist-packages (from requests<3,>=2->langsmith) (2.2.3)\n",
            "Requirement already satisfied: regex>=2022.1.18 in /usr/local/lib/python3.10/dist-packages (from tiktoken<1,>=0.7->langchain-openai) (2024.9.11)\n",
            "Requirement already satisfied: exceptiongroup in /usr/local/lib/python3.10/dist-packages (from anyio->httpx<1,>=0.23.0->langsmith) (1.2.2)\n",
            "Requirement already satisfied: jsonpointer>=1.9 in /usr/local/lib/python3.10/dist-packages (from jsonpatch<2.0,>=1.33->langchain-core<0.4,>=0.2.39->langgraph) (3.0.0)\n"
          ]
        }
      ],
      "source": [
        "! pip install langgraph langsmith langchain-openai"
      ]
    },
    {
      "cell_type": "code",
      "execution_count": 4,
      "metadata": {
        "id": "NoqeREOUWthR"
      },
      "outputs": [],
      "source": [
        "import os\n",
        "from langchain_openai import ChatOpenAI\n",
        "from typing import Literal\n",
        "from langchain_core.tools import tool\n",
        "from IPython.display import Image, display\n",
        "from langgraph.prebuilt import ToolNode\n",
        "from langgraph.graph import StateGraph, MessagesState\n",
        "\n",
        "\n",
        "\n",
        "os.environ[\"LANGCHAIN_TRACING_V2\"] = \"true\"\n",
        "os.environ[\"LANGCHAIN_ENDPOINT\"] = \"https://api.smith.langchain.com\"\n",
        "os.environ[\"LANGCHAIN_API_KEY\"] = \"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\"\n",
        "# LangSmith 项目名称，默认 default\n",
        "os.environ[\"LANGCHAIN_PROJECT\"] = \"default\""
      ]
    },
    {
      "cell_type": "code",
      "execution_count": 5,
      "metadata": {
        "id": "nk1fjleMWzHg"
      },
      "outputs": [],
      "source": [
        "@tool\n",
        "def get_deployment(deplyment_name: str):\n",
        "    \"\"\"Use this to get deployment YAML.\"\"\"\n",
        "    print(\"get deployment: \", deplyment_name)\n",
        "    return \"\"\"\n",
        "apiVersion: apps/v1\n",
        "kind: Deployment\n",
        "metadata:\n",
        "  name: payment\n",
        "spec:\n",
        "  selector:\n",
        "    matchLabels:\n",
        "    app: payment\n",
        "  template:\n",
        "    metadata:\n",
        "    labels:\n",
        "      app: payment\n",
        "    spec:\n",
        "      containers:\n",
        "      - name: payment\n",
        "        image: nginx\n",
        "        ports:\n",
        "          - containerPort: 80\n",
        "\"\"\"\n",
        "\n",
        "@tool\n",
        "def apply_deployment(patch_json: str):\n",
        "    \"\"\"Edit the deployment YAML.\"\"\"\n",
        "    print(\"apply deployment: \", patch_json)\n",
        "    # 这里在后续的课程里会讲解调用 k8s API 来真正部署 patch_json\n",
        "    return \"deployment applied\""
      ]
    },
    {
      "cell_type": "code",
      "execution_count": 9,
      "metadata": {
        "colab": {
          "base_uri": "https://localhost:8080/",
          "height": 266
        },
        "id": "o4vy4FHAXWn6",
        "outputId": "a9ab29c2-90cd-422e-fb10-80e196efe950"
      },
      "outputs": [
        {
          "data": {
            "image/jpeg": "[encoded data removed]",
            "text/plain": [
              "<IPython.core.display.Image object>"
            ]
          },
          "metadata": {},
          "output_type": "display_data"
        }
      ],
      "source": [
        "tools = [get_deployment, apply_deployment]\n",
        "model_with_tools = ChatOpenAI(\n",
        "    model=\"gpt-4o\",\n",
        "    api_key=\"sk-T6SlqfUnyFytejvA3c1584F87d6343878232185e26243b1d\",\n",
        "    base_url=\"https://api.apiyi.com/v1\",\n",
        "    temperature=0\n",
        "    ).bind_tools(tools)\n",
        "\n",
        "def call_model(state: MessagesState):\n",
        "    messages = state[\"messages\"]\n",
        "    response = model_with_tools.invoke(messages)\n",
        "    return {\"messages\": [response]}\n",
        "\n",
        "def should_continue(state: MessagesState) -> Literal[\"tools\", \"__end__\"]:\n",
        "    messages = state[\"messages\"]\n",
        "    last_message = messages[-1]\n",
        "    if last_message.tool_calls:\n",
        "        return \"tools\"\n",
        "    return \"__end__\"\n",
        "\n",
        "tool_node = ToolNode(tools)\n",
        "workflow = StateGraph(MessagesState)\n",
        "workflow.add_node(\"chat\", call_model)\n",
        "workflow.add_node(\"tools\", tool_node)\n",
        "\n",
        "workflow.add_edge(\"__start__\", \"chat\")\n",
        "workflow.add_conditional_edges(\n",
        "    \"chat\",\n",
        "    should_continue,\n",
        ")\n",
        "workflow.add_edge(\"tools\", \"chat\")\n",
        "app = workflow.compile()\n",
        "\n",
        "try:\n",
        "    display(Image(app.get_graph().draw_mermaid_png()))\n",
        "except Exception:\n",
        "    pass"
      ]
    },
    {
      "cell_type": "code",
      "execution_count": 8,
      "metadata": {
        "colab": {
          "base_uri": "https://localhost:8080/"
        },
        "id": "olp4MhR_Ym4y",
        "outputId": "e58db134-db6b-4639-a8e6-aaec69a1b239"
      },
      "outputs": [
        {
          "name": "stdout",
          "output_type": "stream",
          "text": [
            "================================\u001b[1m Human Message \u001b[0m=================================\n",
            "\n",
            "帮我修改 payment 的工作负载，镜像为 nginx:v1.0\n",
            "==================================\u001b[1m Ai Message \u001b[0m==================================\n",
            "Tool Calls:\n",
            "  get_deployment (call_o0FHXalCIB5LRbSb8650tgzM)\n",
            " Call ID: call_o0FHXalCIB5LRbSb8650tgzM\n",
            "  Args:\n",
            "    deplyment_name: payment\n",
            "get deployment:  payment\n",
            "=================================\u001b[1m Tool Message \u001b[0m=================================\n",
            "Name: get_deployment\n",
            "\n",
            "\n",
            "apiVersion: apps/v1\n",
            "kind: Deployment\n",
            "metadata:\n",
            "  name: payment\n",
            "spec:\n",
            "  selector:\n",
            "    matchLabels:\n",
            "    app: payment\n",
            "  template:\n",
            "    metadata:\n",
            "    labels:\n",
            "      app: payment\n",
            "    spec:\n",
            "      containers:\n",
            "      - name: payment\n",
            "        image: nginx\n",
            "        ports:\n",
            "          - containerPort: 80\n",
            "\n",
            "==================================\u001b[1m Ai Message \u001b[0m==================================\n",
            "Tool Calls:\n",
            "  apply_deployment (call_pg7RmCKAp0aFEhGoOfGFSeqP)\n",
            " Call ID: call_pg7RmCKAp0aFEhGoOfGFSeqP\n",
            "  Args:\n",
            "    patch_json: {\"spec\": {\"template\": {\"spec\": {\"containers\": [{\"name\": \"payment\", \"image\": \"nginx:v1.0\"}]}}}}\n",
            "apply deployment:  {\"spec\": {\"template\": {\"spec\": {\"containers\": [{\"name\": \"payment\", \"image\": \"nginx:v1.0\"}]}}}}\n",
            "=================================\u001b[1m Tool Message \u001b[0m=================================\n",
            "Name: apply_deployment\n",
            "\n",
            "deployment applied\n",
            "==================================\u001b[1m Ai Message \u001b[0m==================================\n",
            "\n",
            "已成功将 `payment` 的镜像更新为 `nginx:v1.0`。\n"
          ]
        }
      ],
      "source": [
        "for chunk in app.stream(\n",
        "    {\"messages\": [(\"human\", \"帮我修改 payment 的工作负载，镜像为 nginx:v1.0\")]}, stream_mode=\"values\"\n",
        "):\n",
        "    chunk[\"messages\"][-1].pretty_print()"
      ]
    }
  ],
  "metadata": {
    "colab": {
      "provenance": []
    },
    "kernelspec": {
      "display_name": "Python 3",
      "name": "python3"
    },
    "language_info": {
      "name": "python"
    }
  },
  "nbformat": 4,
  "nbformat_minor": 0
}
