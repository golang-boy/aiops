{
  "cells": [
    {
      "cell_type": "code",
      "execution_count": 1,
      "metadata": {
        "colab": {
          "base_uri": "https://localhost:8080/"
        },
        "id": "HDuWvzucSGV4",
        "outputId": "30a826b7-112a-4d4e-d8b4-d09ccb228a8a"
      },
      "outputs": [
        {
          "name": "stdout",
          "output_type": "stream",
          "text": [
            "Collecting langgraph\n",
            "  Downloading langgraph-0.2.28-py3-none-any.whl.metadata (13 kB)\n",
            "Collecting langsmith\n",
            "  Downloading langsmith-0.1.129-py3-none-any.whl.metadata (13 kB)\n",
            "Collecting langchain-openai\n",
            "  Downloading langchain_openai-0.2.1-py3-none-any.whl.metadata (2.6 kB)\n",
            "Collecting langchain-core<0.4,>=0.2.39 (from langgraph)\n",
            "  Downloading langchain_core-0.3.6-py3-none-any.whl.metadata (6.3 kB)\n",
            "Collecting langgraph-checkpoint<2.0.0,>=1.0.2 (from langgraph)\n",
            "  Downloading langgraph_checkpoint-1.0.12-py3-none-any.whl.metadata (4.6 kB)\n",
            "Collecting httpx<1,>=0.23.0 (from langsmith)\n",
            "  Downloading httpx-0.27.2-py3-none-any.whl.metadata (7.1 kB)\n",
            "Collecting orjson<4.0.0,>=3.9.14 (from langsmith)\n",
            "  Downloading orjson-3.10.7-cp310-cp310-manylinux_2_17_x86_64.manylinux2014_x86_64.whl.metadata (50 kB)\n",
            "\u001b[2K     \u001b[90m━━━━━━━━━━━━━━━━━━━━━━━━━━━━━━━━━━━━━━━━\u001b[0m \u001b[32m50.4/50.4 kB\u001b[0m \u001b[31m1.1 MB/s\u001b[0m eta \u001b[36m0:00:00\u001b[0m\n",
            "\u001b[?25hRequirement already satisfied: pydantic<3,>=1 in /usr/local/lib/python3.10/dist-packages (from langsmith) (2.9.2)\n",
            "Requirement already satisfied: requests<3,>=2 in /usr/local/lib/python3.10/dist-packages (from langsmith) (2.32.3)\n",
            "Collecting openai<2.0.0,>=1.40.0 (from langchain-openai)\n",
            "  Downloading openai-1.50.2-py3-none-any.whl.metadata (24 kB)\n",
            "Collecting tiktoken<1,>=0.7 (from langchain-openai)\n",
            "  Downloading tiktoken-0.7.0-cp310-cp310-manylinux_2_17_x86_64.manylinux2014_x86_64.whl.metadata (6.6 kB)\n",
            "Requirement already satisfied: anyio in /usr/local/lib/python3.10/dist-packages (from httpx<1,>=0.23.0->langsmith) (3.7.1)\n",
            "Requirement already satisfied: certifi in /usr/local/lib/python3.10/dist-packages (from httpx<1,>=0.23.0->langsmith) (2024.8.30)\n",
            "Collecting httpcore==1.* (from httpx<1,>=0.23.0->langsmith)\n",
            "  Downloading httpcore-1.0.5-py3-none-any.whl.metadata (20 kB)\n",
            "Requirement already satisfied: idna in /usr/local/lib/python3.10/dist-packages (from httpx<1,>=0.23.0->langsmith) (3.10)\n",
            "Requirement already satisfied: sniffio in /usr/local/lib/python3.10/dist-packages (from httpx<1,>=0.23.0->langsmith) (1.3.1)\n",
            "Collecting h11<0.15,>=0.13 (from httpcore==1.*->httpx<1,>=0.23.0->langsmith)\n",
            "  Downloading h11-0.14.0-py3-none-any.whl.metadata (8.2 kB)\n",
            "Requirement already satisfied: PyYAML>=5.3 in /usr/local/lib/python3.10/dist-packages (from langchain-core<0.4,>=0.2.39->langgraph) (6.0.2)\n",
            "Collecting jsonpatch<2.0,>=1.33 (from langchain-core<0.4,>=0.2.39->langgraph)\n",
            "  Downloading jsonpatch-1.33-py2.py3-none-any.whl.metadata (3.0 kB)\n",
            "Requirement already satisfied: packaging<25,>=23.2 in /usr/local/lib/python3.10/dist-packages (from langchain-core<0.4,>=0.2.39->langgraph) (24.1)\n",
            "Collecting tenacity!=8.4.0,<9.0.0,>=8.1.0 (from langchain-core<0.4,>=0.2.39->langgraph)\n",
            "  Downloading tenacity-8.5.0-py3-none-any.whl.metadata (1.2 kB)\n",
            "Requirement already satisfied: typing-extensions>=4.7 in /usr/local/lib/python3.10/dist-packages (from langchain-core<0.4,>=0.2.39->langgraph) (4.12.2)\n",
            "Collecting msgpack<2.0.0,>=1.1.0 (from langgraph-checkpoint<2.0.0,>=1.0.2->langgraph)\n",
            "  Downloading msgpack-1.1.0-cp310-cp310-manylinux_2_17_x86_64.manylinux2014_x86_64.whl.metadata (8.4 kB)\n",
            "Requirement already satisfied: distro<2,>=1.7.0 in /usr/lib/python3/dist-packages (from openai<2.0.0,>=1.40.0->langchain-openai) (1.7.0)\n",
            "Collecting jiter<1,>=0.4.0 (from openai<2.0.0,>=1.40.0->langchain-openai)\n",
            "  Downloading jiter-0.5.0-cp310-cp310-manylinux_2_17_x86_64.manylinux2014_x86_64.whl.metadata (3.6 kB)\n",
            "Requirement already satisfied: tqdm>4 in /usr/local/lib/python3.10/dist-packages (from openai<2.0.0,>=1.40.0->langchain-openai) (4.66.5)\n",
            "Requirement already satisfied: annotated-types>=0.6.0 in /usr/local/lib/python3.10/dist-packages (from pydantic<3,>=1->langsmith) (0.7.0)\n",
            "Requirement already satisfied: pydantic-core==2.23.4 in /usr/local/lib/python3.10/dist-packages (from pydantic<3,>=1->langsmith) (2.23.4)\n",
            "Requirement already satisfied: charset-normalizer<4,>=2 in /usr/local/lib/python3.10/dist-packages (from requests<3,>=2->langsmith) (3.3.2)\n",
            "Requirement already satisfied: urllib3<3,>=1.21.1 in /usr/local/lib/python3.10/dist-packages (from requests<3,>=2->langsmith) (2.2.3)\n",
            "Requirement already satisfied: regex>=2022.1.18 in /usr/local/lib/python3.10/dist-packages (from tiktoken<1,>=0.7->langchain-openai) (2024.9.11)\n",
            "Requirement already satisfied: exceptiongroup in /usr/local/lib/python3.10/dist-packages (from anyio->httpx<1,>=0.23.0->langsmith) (1.2.2)\n",
            "Collecting jsonpointer>=1.9 (from jsonpatch<2.0,>=1.33->langchain-core<0.4,>=0.2.39->langgraph)\n",
            "  Downloading jsonpointer-3.0.0-py2.py3-none-any.whl.metadata (2.3 kB)\n",
            "Downloading langgraph-0.2.28-py3-none-any.whl (107 kB)\n",
            "\u001b[2K   \u001b[90m━━━━━━━━━━━━━━━━━━━━━━━━━━━━━━━━━━━━━━━━\u001b[0m \u001b[32m107.7/107.7 kB\u001b[0m \u001b[31m4.9 MB/s\u001b[0m eta \u001b[36m0:00:00\u001b[0m\n",
            "\u001b[?25hDownloading langsmith-0.1.129-py3-none-any.whl (292 kB)\n",
            "\u001b[2K   \u001b[90m━━━━━━━━━━━━━━━━━━━━━━━━━━━━━━━━━━━━━━━━\u001b[0m \u001b[32m292.2/292.2 kB\u001b[0m \u001b[31m12.5 MB/s\u001b[0m eta \u001b[36m0:00:00\u001b[0m\n",
            "\u001b[?25hDownloading langchain_openai-0.2.1-py3-none-any.whl (49 kB)\n",
            "\u001b[2K   \u001b[90m━━━━━━━━━━━━━━━━━━━━━━━━━━━━━━━━━━━━━━━━\u001b[0m \u001b[32m49.6/49.6 kB\u001b[0m \u001b[31m2.9 MB/s\u001b[0m eta \u001b[36m0:00:00\u001b[0m\n",
            "\u001b[?25hDownloading httpx-0.27.2-py3-none-any.whl (76 kB)\n",
            "\u001b[2K   \u001b[90m━━━━━━━━━━━━━━━━━━━━━━━━━━━━━━━━━━━━━━━━\u001b[0m \u001b[32m76.4/76.4 kB\u001b[0m \u001b[31m4.1 MB/s\u001b[0m eta \u001b[36m0:00:00\u001b[0m\n",
            "\u001b[?25hDownloading httpcore-1.0.5-py3-none-any.whl (77 kB)\n",
            "\u001b[2K   \u001b[90m━━━━━━━━━━━━━━━━━━━━━━━━━━━━━━━━━━━━━━━━\u001b[0m \u001b[32m77.9/77.9 kB\u001b[0m \u001b[31m3.8 MB/s\u001b[0m eta \u001b[36m0:00:00\u001b[0m\n",
            "\u001b[?25hDownloading langchain_core-0.3.6-py3-none-any.whl (399 kB)\n",
            "\u001b[2K   \u001b[90m━━━━━━━━━━━━━━━━━━━━━━━━━━━━━━━━━━━━━━━━\u001b[0m \u001b[32m399.9/399.9 kB\u001b[0m \u001b[31m19.3 MB/s\u001b[0m eta \u001b[36m0:00:00\u001b[0m\n",
            "\u001b[?25hDownloading langgraph_checkpoint-1.0.12-py3-none-any.whl (17 kB)\n",
            "Downloading openai-1.50.2-py3-none-any.whl (382 kB)\n",
            "\u001b[2K   \u001b[90m━━━━━━━━━━━━━━━━━━━━━━━━━━━━━━━━━━━━━━━━\u001b[0m \u001b[32m383.0/383.0 kB\u001b[0m \u001b[31m18.9 MB/s\u001b[0m eta \u001b[36m0:00:00\u001b[0m\n",
            "\u001b[?25hDownloading orjson-3.10.7-cp310-cp310-manylinux_2_17_x86_64.manylinux2014_x86_64.whl (141 kB)\n",
            "\u001b[2K   \u001b[90m━━━━━━━━━━━━━━━━━━━━━━━━━━━━━━━━━━━━━━━━\u001b[0m \u001b[32m141.9/141.9 kB\u001b[0m \u001b[31m8.8 MB/s\u001b[0m eta \u001b[36m0:00:00\u001b[0m\n",
            "\u001b[?25hDownloading tiktoken-0.7.0-cp310-cp310-manylinux_2_17_x86_64.manylinux2014_x86_64.whl (1.1 MB)\n",
            "\u001b[2K   \u001b[90m━━━━━━━━━━━━━━━━━━━━━━━━━━━━━━━━━━━━━━━━\u001b[0m \u001b[32m1.1/1.1 MB\u001b[0m \u001b[31m39.6 MB/s\u001b[0m eta \u001b[36m0:00:00\u001b[0m\n",
            "\u001b[?25hDownloading jiter-0.5.0-cp310-cp310-manylinux_2_17_x86_64.manylinux2014_x86_64.whl (318 kB)\n",
            "\u001b[2K   \u001b[90m━━━━━━━━━━━━━━━━━━━━━━━━━━━━━━━━━━━━━━━━\u001b[0m \u001b[32m318.9/318.9 kB\u001b[0m \u001b[31m14.9 MB/s\u001b[0m eta \u001b[36m0:00:00\u001b[0m\n",
            "\u001b[?25hDownloading jsonpatch-1.33-py2.py3-none-any.whl (12 kB)\n",
            "Downloading msgpack-1.1.0-cp310-cp310-manylinux_2_17_x86_64.manylinux2014_x86_64.whl (378 kB)\n",
            "\u001b[2K   \u001b[90m━━━━━━━━━━━━━━━━━━━━━━━━━━━━━━━━━━━━━━━━\u001b[0m \u001b[32m378.0/378.0 kB\u001b[0m \u001b[31m16.5 MB/s\u001b[0m eta \u001b[36m0:00:00\u001b[0m\n",
            "\u001b[?25hDownloading tenacity-8.5.0-py3-none-any.whl (28 kB)\n",
            "Downloading h11-0.14.0-py3-none-any.whl (58 kB)\n",
            "\u001b[2K   \u001b[90m━━━━━━━━━━━━━━━━━━━━━━━━━━━━━━━━━━━━━━━━\u001b[0m \u001b[32m58.3/58.3 kB\u001b[0m \u001b[31m4.1 MB/s\u001b[0m eta \u001b[36m0:00:00\u001b[0m\n",
            "\u001b[?25hDownloading jsonpointer-3.0.0-py2.py3-none-any.whl (7.6 kB)\n",
            "Installing collected packages: tenacity, orjson, msgpack, jsonpointer, jiter, h11, tiktoken, jsonpatch, httpcore, httpx, openai, langsmith, langchain-core, langgraph-checkpoint, langchain-openai, langgraph\n",
            "  Attempting uninstall: tenacity\n",
            "    Found existing installation: tenacity 9.0.0\n",
            "    Uninstalling tenacity-9.0.0:\n",
            "      Successfully uninstalled tenacity-9.0.0\n",
            "  Attempting uninstall: msgpack\n",
            "    Found existing installation: msgpack 1.0.8\n",
            "    Uninstalling msgpack-1.0.8:\n",
            "      Successfully uninstalled msgpack-1.0.8\n",
            "Successfully installed h11-0.14.0 httpcore-1.0.5 httpx-0.27.2 jiter-0.5.0 jsonpatch-1.33 jsonpointer-3.0.0 langchain-core-0.3.6 langchain-openai-0.2.1 langgraph-0.2.28 langgraph-checkpoint-1.0.12 langsmith-0.1.129 msgpack-1.1.0 openai-1.50.2 orjson-3.10.7 tenacity-8.5.0 tiktoken-0.7.0\n"
          ]
        }
      ],
      "source": [
        "! pip install langgraph langsmith langchain-openai"
      ]
    },
    {
      "cell_type": "code",
      "execution_count": 84,
      "metadata": {
        "id": "AEAdK4W6SS9p"
      },
      "outputs": [],
      "source": [
        "from typing import TypedDict, Annotated\n",
        "from langchain_openai import ChatOpenAI\n",
        "from langgraph.graph.message import add_messages\n",
        "from langgraph.graph import StateGraph, START, END\n",
        "from IPython.display import Image, display"
      ]
    },
    {
      "cell_type": "code",
      "execution_count": 95,
      "metadata": {
        "id": "PK-11_OkSSzd"
      },
      "outputs": [],
      "source": [
        "llm = ChatOpenAI(\n",
        "    model=\"gpt-4o\",\n",
        "    api_key=\"sk-T6SlqfUnyFytejvA3c1584F87d6343878232185e26243b1d\",\n",
        "    base_url=\"https://api.apiyi.com/v1\"\n",
        ")"
      ]
    },
    {
      "cell_type": "code",
      "execution_count": 96,
      "metadata": {
        "id": "nx4WOPujFN7f"
      },
      "outputs": [],
      "source": [
        "class State(TypedDict):\n",
        "  messages: Annotated[list, add_messages]"
      ]
    },
    {
      "cell_type": "markdown",
      "metadata": {
        "id": "ShlCPQlXEvp2"
      },
      "source": [
        "## agent基本示例"
      ]
    },
    {
      "cell_type": "code",
      "execution_count": 97,
      "metadata": {
        "colab": {
          "base_uri": "https://localhost:8080/",
          "height": 286
        },
        "id": "1MSLgheNS3u_",
        "outputId": "6baac694-4380-4477-dd6b-40d4add0b8f3"
      },
      "outputs": [
        {
          "data": {
            "image/jpeg": "[encoded data removed]",
            "text/plain": [
              "<IPython.core.display.Image object>"
            ]
          },
          "metadata": {},
          "output_type": "display_data"
        },
        {
          "name": "stdout",
          "output_type": "stream",
          "text": [
            "User: q\n",
            "Goodbye!\n"
          ]
        }
      ],
      "source": [
        "def chat(state: State):\n",
        "  return {\"messages\": [llm.invoke(state[\"messages\"])]}\n",
        "\n",
        "workflow = StateGraph(State)\n",
        "workflow.add_node(chat)\n",
        "workflow.set_entry_point(\"chat\")\n",
        "workflow.set_finish_point(\"chat\")\n",
        "graph = workflow.compile()\n",
        "\n",
        "display(Image(graph.get_graph().draw_mermaid_png()))\n",
        "while True:\n",
        "  user_input = input(\"User: \")\n",
        "  if user_input.lower() in [\"quit\",\"q\",\"exit\"]:\n",
        "    print(\"Goodbye!\")\n",
        "    break\n",
        "  for event in graph.stream({\"messages\":(\"user\", user_input)}):\n",
        "    for value in event.values():\n",
        "      print(\"Assistant:\", value[\"messages\"][-1].content)"
      ]
    },
    {
      "cell_type": "markdown",
      "metadata": {
        "id": "hI6MsFl8EzmQ"
      },
      "source": [
        "## 实现翻译agent"
      ]
    },
    {
      "cell_type": "code",
      "execution_count": 98,
      "metadata": {
        "id": "ZJTZNSqlDI4M"
      },
      "outputs": [],
      "source": [
        "source_lang = \"Chinese\"\n",
        "target_lang = \"English\""
      ]
    },
    {
      "cell_type": "code",
      "execution_count": 99,
      "metadata": {
        "id": "b31dDVR_FJ2K"
      },
      "outputs": [],
      "source": [
        "## 初始翻译\n",
        "def initial_translation(state: State):\n",
        "  source_text = state[\"messages\"][-1].content\n",
        "  system_prompt = f\"You are an expert linguist, specializing in translation from {source_lang} to {target_lang}.\"\n",
        "  translation_prompt = f\"\"\"This is an {source_lang} to {target_lang} translation, please provide the {target_lang} translation for this text. \\\n",
        "  Do not provide any explanations or text apart from the translation.\n",
        "  {source_lang}: {source_text}\n",
        "\n",
        "  {target_lang}:\"\"\"\n",
        "\n",
        "  messages = [\n",
        "     (\n",
        "      \"system\",\n",
        "      system_prompt,\n",
        "     ),\n",
        "      (\"human\", translation_prompt),\n",
        "  ]\n",
        "  return {\"messages\": [llm.invoke(messages)]}\n",
        "\n"
      ]
    },
    {
      "cell_type": "code",
      "execution_count": 100,
      "metadata": {
        "id": "YyKNoWs6GR1u"
      },
      "outputs": [],
      "source": [
        "## 对结果进行反思\n",
        "def reflect_on_translation(state: State):\n",
        "    country = \"America\"\n",
        "    # 获取输入的原文（User 消息）\n",
        "    source_text = state[\"messages\"][-2].content\n",
        "    # 获取翻译（Assistant 消息）\n",
        "    translation_1 = state[\"messages\"][-1].content\n",
        "    system_message = f\"You are an expert linguist specializing in translation from {source_lang} to {target_lang}. \\\n",
        "You will be provided with a source text and its translation and your goal is to improve the translation.\"\n",
        "\n",
        "    reflection_prompt = f\"\"\"Your task is to carefully read a source text and a translation from {source_lang} to {target_lang}, and then give constructive criticism and helpful suggestions to improve the translation. \\\n",
        "    The final style and tone of the translation should match the style of {target_lang} colloquially spoken in {country}.\n",
        "\n",
        "    The source text and initial translation, delimited by XML tags <SOURCE_TEXT></SOURCE_TEXT> and <TRANSLATION></TRANSLATION>, are as follows:\n",
        "\n",
        "    <SOURCE_TEXT>\n",
        "    {source_text}\n",
        "    </SOURCE_TEXT>\n",
        "\n",
        "    <TRANSLATION>\n",
        "    {translation_1}\n",
        "    </TRANSLATION>\n",
        "\n",
        "    When writing suggestions, pay attention to whether there are ways to improve the translation's \\n\\\n",
        "    (i) accuracy (by correcting errors of addition, mistranslation, omission, or untranslated text),\\n\\\n",
        "    (ii) fluency (by applying {target_lang} grammar, spelling and punctuation rules, and ensuring there are no unnecessary repetitions),\\n\\\n",
        "    (iii) style (by ensuring the translations reflect the style of the source text and take into account any cultural context),\\n\\\n",
        "    (iv) terminology (by ensuring terminology use is consistent and reflects the source text domain; and by only ensuring you use equivalent idioms {target_lang}).\\n\\\n",
        "\n",
        "    Write a list of specific, helpful and constructive suggestions for improving the translation.\n",
        "    Each suggestion should address one specific part of the translation.\n",
        "    Output only the suggestions and nothing else.\"\"\"\n",
        "\n",
        "    messages = [\n",
        "        (\"system\",system_message,),\n",
        "        (\"human\", reflection_prompt),\n",
        "    ]\n",
        "    return {\"messages\": [llm.invoke(messages)]}"
      ]
    },
    {
      "cell_type": "code",
      "execution_count": 101,
      "metadata": {
        "id": "7TPlNkTmGdDP"
      },
      "outputs": [],
      "source": [
        "## 优化翻译\n",
        "def improve_translation(state: State):\n",
        "    # 输入原文（User 消息）\n",
        "    source_text = state[\"messages\"][-3].content\n",
        "    # 初始翻译结果（Assistant 消息）\n",
        "    translation_1 = state[\"messages\"][-2].content\n",
        "    # 反思建议（Assistant 消息）\n",
        "    reflection = state[\"messages\"][-1].content\n",
        "\n",
        "    system_message = f\"You are an expert linguist, specializing in translation editing from {source_lang} to {target_lang}.\"\n",
        "\n",
        "    improve_prompt = f\"\"\"Your task is to carefully read, then edit, a translation from {source_lang} to {target_lang}, taking into\n",
        "    account a list of expert suggestions and constructive criticisms.\n",
        "\n",
        "    The source text, the initial translation, and the expert linguist suggestions are delimited by XML tags <SOURCE_TEXT></SOURCE_TEXT>, <TRANSLATION></TRANSLATION> and <EXPERT_SUGGESTIONS></EXPERT_SUGGESTIONS> \\\n",
        "    as follows:\n",
        "\n",
        "    <SOURCE_TEXT>\n",
        "    {source_text}\n",
        "    </SOURCE_TEXT>\n",
        "\n",
        "    <TRANSLATION>\n",
        "    {translation_1}\n",
        "    </TRANSLATION>\n",
        "\n",
        "    <EXPERT_SUGGESTIONS>\n",
        "    {reflection}\n",
        "    </EXPERT_SUGGESTIONS>\n",
        "\n",
        "    Please take into account the expert suggestions when editing the translation. Edit the translation by ensuring:\n",
        "\n",
        "    (i) accuracy (by correcting errors of addition, mistranslation, omission, or untranslated text),\n",
        "    (ii) fluency (by applying {target_lang} grammar, spelling and punctuation rules and ensuring there are no unnecessary repetitions), \\\n",
        "    (iii) style (by ensuring the translations reflect the style of the source text)\n",
        "    (iv) terminology (inappropriate for context, inconsistent use), or\n",
        "    (v) other errors.\n",
        "\n",
        "    Output only the new translation and nothing else.\"\"\"\n",
        "\n",
        "    messages = [\n",
        "        (\n",
        "            \"system\",\n",
        "            system_message,\n",
        "        ),\n",
        "        (\"human\", improve_prompt),\n",
        "    ]\n",
        "    return {\"messages\": [llm.invoke(messages)]}"
      ]
    },
    {
      "cell_type": "markdown",
      "metadata": {
        "id": "WdvZDaW6G300"
      },
      "source": [
        "## 构建agent执行流程"
      ]
    },
    {
      "cell_type": "code",
      "execution_count": 102,
      "metadata": {
        "id": "va0L42DSG1ng"
      },
      "outputs": [],
      "source": [
        "w = StateGraph(State)\n",
        "w.add_node(\"initial_translation\", initial_translation)\n",
        "w.add_node(\"reflect_on_translation\", reflect_on_translation)\n",
        "w.add_node(\"improve_translation\", improve_translation)\n",
        "\n",
        "w.set_entry_point(\"initial_translation\")\n",
        "w.add_edge(\"initial_translation\", \"reflect_on_translation\")\n",
        "w.add_edge(\"reflect_on_translation\", \"improve_translation\")\n",
        "w.set_finish_point(\"improve_translation\")\n",
        "\n",
        "g = w.compile()\n"
      ]
    },
    {
      "cell_type": "code",
      "execution_count": 103,
      "metadata": {
        "colab": {
          "base_uri": "https://localhost:8080/",
          "height": 449
        },
        "id": "OKKbkUOmInRz",
        "outputId": "e7a009b4-0883-4a83-ede6-61c8ef154a6a"
      },
      "outputs": [
        {
          "data": {
            "image/jpeg": "[encoded data removed]",
            "text/plain": [
              "<IPython.core.display.Image object>"
            ]
          },
          "metadata": {},
          "output_type": "display_data"
        }
      ],
      "source": [
        "display(Image(g.get_graph().draw_mermaid_png()))"
      ]
    },
    {
      "cell_type": "code",
      "execution_count": 104,
      "metadata": {
        "colab": {
          "base_uri": "https://localhost:8080/"
        },
        "id": "C9ek3h5UIyqH",
        "outputId": "0f89ec32-fbe2-4fa2-f16f-bbc1eb990922"
      },
      "outputs": [
        {
          "name": "stdout",
          "output_type": "stream",
          "text": [
            "输入中翻英内容: 静夜思\\n 床前明月光，疑是地上霜。\\n 举头望明月，低头思故乡。\\n\n",
            "================================\u001b[1m Human Message \u001b[0m=================================\n",
            "\n",
            "静夜思\\n 床前明月光，疑是地上霜。\\n 举头望明月，低头思故乡。\\n\n",
            "==================================\u001b[1m Ai Message \u001b[0m==================================\n",
            "\n",
            "In the quiet night\n",
            "\n",
            "Before my bed, the bright moonlight,\n",
            "\n",
            "I suspect it is frost on the ground.\n",
            "\n",
            "I raise my head to gaze at the bright moon,\n",
            "\n",
            "Then lower it to think of my hometown.\n",
            "==================================\u001b[1m Ai Message \u001b[0m==================================\n",
            "\n",
            "1. **Title Translation**: Consider translating the title \"静夜思\" to \"Thoughts on a Quiet Night\" to capture the reflective nature of the poem.\n",
            "\n",
            "2. **Line 1**: The phrase \"Before my bed, the bright moonlight,\" could be rephrased to \"Moonlight shines before my bed,\" for a smoother flow and to emphasize the presence of moonlight.\n",
            "\n",
            "3. **Line 2**: \"I suspect it is frost on the ground.\" could be simplified to \"I suspect it's frost on the ground.\" to match colloquial American English.\n",
            "\n",
            "4. **Line 3**: \"I raise my head to gaze at the bright moon,\" can be slightly condensed to \"I lift my head to gaze at the bright moon,\" for a more natural rhythm.\n",
            "\n",
            "5. **Line 4**: \"Then lower it to think of my hometown.\" could be rephrased as \"Then lower it, missing my hometown.\" to convey a more emotional connection.\n",
            "\n",
            "6. **Overall Poetic Feel**: Consider maintaining a consistent rhythm and brevity in each line to better match the original poem's structure and tone.\n",
            "==================================\u001b[1m Ai Message \u001b[0m==================================\n",
            "\n",
            "Thoughts on a Quiet Night\n",
            "\n",
            "Moonlight shines before my bed,\n",
            "\n",
            "I suspect it's frost on the ground.\n",
            "\n",
            "I lift my head to gaze at the bright moon,\n",
            "\n",
            "Then lower it, missing my hometown.\n"
          ]
        }
      ],
      "source": [
        "\"\"\"\n",
        "静夜思\\n\n",
        "床前明月光，疑是地上霜。\\n\n",
        "举头望明月，低头思故乡。\\n\n",
        "\"\"\"\n",
        "user_input = input(\"输入中翻英内容: \")\n",
        "events = g.stream(\n",
        "    {\"messages\": [(\"user\", user_input)]}, stream_mode=\"values\"\n",
        ")\n",
        "for event in events:\n",
        "    event[\"messages\"][-1].pretty_print()"
      ]
    },
    {
      "cell_type": "code",
      "execution_count": 105,
      "metadata": {
        "id": "MUHgRmNqL_RI"
      },
      "outputs": [],
      "source": [
        "source_lang = \"English\"\n",
        "target_lang = \"Chinese\""
      ]
    },
    {
      "cell_type": "code",
      "execution_count": 108,
      "metadata": {
        "colab": {
          "base_uri": "https://localhost:8080/"
        },
        "id": "B660iUQhKfu4",
        "outputId": "3dab08b5-558c-4b01-be71-9896644e94ff"
      },
      "outputs": [
        {
          "name": "stdout",
          "output_type": "stream",
          "text": [
            "输入英翻中内容: Thoughts on a Quiet Night  Moonlight shines before my bed,   I wonder if it's frost on the ground.   I raise my head and gaze at the bright moon,   Then lower it, lost in thoughts of home.\n",
            "================================\u001b[1m Human Message \u001b[0m=================================\n",
            "\n",
            "Thoughts on a Quiet Night  Moonlight shines before my bed,   I wonder if it's frost on the ground.   I raise my head and gaze at the bright moon,   Then lower it, lost in thoughts of home.\n",
            "==================================\u001b[1m Ai Message \u001b[0m==================================\n",
            "\n",
            "床前明月光，疑是地上霜。举头望明月，低头思故乡。\n",
            "==================================\u001b[1m Ai Message \u001b[0m==================================\n",
            "\n",
            "1. **Accuracy & Faithfulness to Original**: The translation provided is actually a well-known Chinese poem by Li Bai, which corresponds closely to the source text. However, if the goal is to translate for an American Chinese audience with more colloquial language, consider maintaining the essence but adapting the expression.\n",
            "\n",
            "2. **Fluency & Colloquial Style**: Although the traditional style is elegant, for a colloquial tone, you might consider rephrasing it to sound more conversational. For example, \"月光洒在床前\" instead of \"床前明月光\" can add a sense of casualness.\n",
            "\n",
            "3. **Cultural Context**: Since the initial translation is already a cultural piece, ensure any changes preserve the sentiment of nostalgia and longing for home that is universal. You might use more contemporary language that resonates with an American Chinese audience, like \"想家\" instead of \"思故乡.\"\n",
            "\n",
            "4. **Terminology Consistency**: Ensure any modern or colloquial adjustments still keep the imagery consistent. For example, \"抬头看月亮\" instead of \"举头望明月\" to reflect a more everyday expression.\n",
            "\n",
            "5. **Punctuation and Grammar**: Although the translation uses classical Chinese structure, for a more modern take, consider using punctuation to break up the lines for clarity, like adding commas or periods to match modern Chinese writing conventions.\n",
            "\n",
            "6. **Idiomatic Expressions**: If adapting to a more colloquial style, consider using idiomatic expressions that convey the same sentiment, such as \"望着月亮想起家\" for \"Then lower it, lost in thoughts of home,\" which maintains the emotional impact.\n",
            "==================================\u001b[1m Ai Message \u001b[0m==================================\n",
            "\n",
            "月光洒在床前，好像地上结了霜。我抬头看月亮，低头想家。\n"
          ]
        }
      ],
      "source": [
        "\"\"\"\n",
        "Thoughts on a Quiet Night\n",
        "\n",
        "Moonlight shines before my bed,\n",
        "I wonder if it's frost on the ground.\n",
        "I raise my head and gaze at the bright moon,\n",
        "Then lower it, lost in thoughts of home.\n",
        "\"\"\"\n",
        "user_input = input(\"输入英翻中内容: \")\n",
        "events = g.stream(\n",
        "    {\"messages\": [(\"user\", user_input)]}, stream_mode=\"values\"\n",
        ")\n",
        "for event in events:\n",
        "    event[\"messages\"][-1].pretty_print()"
      ]
    }
  ],
  "metadata": {
    "colab": {
      "provenance": [],
      "toc_visible": true
    },
    "kernelspec": {
      "display_name": "Python 3",
      "name": "python3"
    },
    "language_info": {
      "name": "python"
    }
  },
  "nbformat": 4,
  "nbformat_minor": 0
}
